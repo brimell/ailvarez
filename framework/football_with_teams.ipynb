{
 "cells": [
  {
   "cell_type": "code",
   "execution_count": 2,
   "metadata": {},
   "outputs": [],
   "source": [
    "import torch\n",
    "import torch.nn as nn\n",
    "import torch.optim as optim\n",
    "import numpy as np\n",
    "from sklearn.model_selection import train_test_split\n",
    "from sklearn.preprocessing import LabelEncoder\n",
    "import pandas as pd\n"
   ]
  },
  {
   "cell_type": "code",
   "execution_count": 3,
   "metadata": {},
   "outputs": [
    {
     "data": {
      "text/html": [
       "<div>\n",
       "<style scoped>\n",
       "    .dataframe tbody tr th:only-of-type {\n",
       "        vertical-align: middle;\n",
       "    }\n",
       "\n",
       "    .dataframe tbody tr th {\n",
       "        vertical-align: top;\n",
       "    }\n",
       "\n",
       "    .dataframe thead th {\n",
       "        text-align: right;\n",
       "    }\n",
       "</style>\n",
       "<table border=\"1\" class=\"dataframe\">\n",
       "  <thead>\n",
       "    <tr style=\"text-align: right;\">\n",
       "      <th></th>\n",
       "      <th>date</th>\n",
       "      <th>home_team</th>\n",
       "      <th>away_team</th>\n",
       "      <th>home_score</th>\n",
       "      <th>away_score</th>\n",
       "      <th>gameweek</th>\n",
       "    </tr>\n",
       "  </thead>\n",
       "  <tbody>\n",
       "    <tr>\n",
       "      <th>0</th>\n",
       "      <td>2022-08-05T19:00:00Z</td>\n",
       "      <td>Crystal Palace</td>\n",
       "      <td>Arsenal</td>\n",
       "      <td>0</td>\n",
       "      <td>2</td>\n",
       "      <td>1</td>\n",
       "    </tr>\n",
       "    <tr>\n",
       "      <th>1</th>\n",
       "      <td>2022-08-06T11:30:00Z</td>\n",
       "      <td>Fulham</td>\n",
       "      <td>Liverpool</td>\n",
       "      <td>2</td>\n",
       "      <td>2</td>\n",
       "      <td>1</td>\n",
       "    </tr>\n",
       "    <tr>\n",
       "      <th>2</th>\n",
       "      <td>2022-08-06T14:00:00Z</td>\n",
       "      <td>Bournemouth</td>\n",
       "      <td>Aston Villa</td>\n",
       "      <td>2</td>\n",
       "      <td>0</td>\n",
       "      <td>1</td>\n",
       "    </tr>\n",
       "    <tr>\n",
       "      <th>3</th>\n",
       "      <td>2022-08-06T14:00:00Z</td>\n",
       "      <td>Leeds</td>\n",
       "      <td>Wolves</td>\n",
       "      <td>2</td>\n",
       "      <td>1</td>\n",
       "      <td>1</td>\n",
       "    </tr>\n",
       "    <tr>\n",
       "      <th>4</th>\n",
       "      <td>2022-08-06T14:00:00Z</td>\n",
       "      <td>Newcastle</td>\n",
       "      <td>Nott'm Forest</td>\n",
       "      <td>2</td>\n",
       "      <td>0</td>\n",
       "      <td>1</td>\n",
       "    </tr>\n",
       "    <tr>\n",
       "      <th>...</th>\n",
       "      <td>...</td>\n",
       "      <td>...</td>\n",
       "      <td>...</td>\n",
       "      <td>...</td>\n",
       "      <td>...</td>\n",
       "      <td>...</td>\n",
       "    </tr>\n",
       "    <tr>\n",
       "      <th>375</th>\n",
       "      <td>2023-05-28T15:30:00Z</td>\n",
       "      <td>Everton</td>\n",
       "      <td>Bournemouth</td>\n",
       "      <td>1</td>\n",
       "      <td>0</td>\n",
       "      <td>38</td>\n",
       "    </tr>\n",
       "    <tr>\n",
       "      <th>376</th>\n",
       "      <td>2023-05-28T15:30:00Z</td>\n",
       "      <td>Leeds</td>\n",
       "      <td>Spurs</td>\n",
       "      <td>1</td>\n",
       "      <td>4</td>\n",
       "      <td>38</td>\n",
       "    </tr>\n",
       "    <tr>\n",
       "      <th>377</th>\n",
       "      <td>2023-05-28T15:30:00Z</td>\n",
       "      <td>Leicester</td>\n",
       "      <td>West Ham</td>\n",
       "      <td>2</td>\n",
       "      <td>1</td>\n",
       "      <td>38</td>\n",
       "    </tr>\n",
       "    <tr>\n",
       "      <th>378</th>\n",
       "      <td>2023-05-28T15:30:00Z</td>\n",
       "      <td>Man Utd</td>\n",
       "      <td>Fulham</td>\n",
       "      <td>2</td>\n",
       "      <td>1</td>\n",
       "      <td>38</td>\n",
       "    </tr>\n",
       "    <tr>\n",
       "      <th>379</th>\n",
       "      <td>2023-05-28T15:30:00Z</td>\n",
       "      <td>Southampton</td>\n",
       "      <td>Liverpool</td>\n",
       "      <td>4</td>\n",
       "      <td>4</td>\n",
       "      <td>38</td>\n",
       "    </tr>\n",
       "  </tbody>\n",
       "</table>\n",
       "<p>380 rows × 6 columns</p>\n",
       "</div>"
      ],
      "text/plain": [
       "                     date       home_team      away_team  home_score  \\\n",
       "0    2022-08-05T19:00:00Z  Crystal Palace        Arsenal           0   \n",
       "1    2022-08-06T11:30:00Z          Fulham      Liverpool           2   \n",
       "2    2022-08-06T14:00:00Z     Bournemouth    Aston Villa           2   \n",
       "3    2022-08-06T14:00:00Z           Leeds         Wolves           2   \n",
       "4    2022-08-06T14:00:00Z       Newcastle  Nott'm Forest           2   \n",
       "..                    ...             ...            ...         ...   \n",
       "375  2023-05-28T15:30:00Z         Everton    Bournemouth           1   \n",
       "376  2023-05-28T15:30:00Z           Leeds          Spurs           1   \n",
       "377  2023-05-28T15:30:00Z       Leicester       West Ham           2   \n",
       "378  2023-05-28T15:30:00Z         Man Utd         Fulham           2   \n",
       "379  2023-05-28T15:30:00Z     Southampton      Liverpool           4   \n",
       "\n",
       "     away_score  gameweek  \n",
       "0             2         1  \n",
       "1             2         1  \n",
       "2             0         1  \n",
       "3             1         1  \n",
       "4             0         1  \n",
       "..          ...       ...  \n",
       "375           0        38  \n",
       "376           4        38  \n",
       "377           1        38  \n",
       "378           1        38  \n",
       "379           4        38  \n",
       "\n",
       "[380 rows x 6 columns]"
      ]
     },
     "execution_count": 3,
     "metadata": {},
     "output_type": "execute_result"
    }
   ],
   "source": [
    "\n",
    "# Load your dataset (replace 'your_dataset.csv' with your actual dataset file)\n",
    "data = pd.read_csv('../data/results_2223_with_gw.csv')\n",
    "data"
   ]
  },
  {
   "cell_type": "code",
   "execution_count": 4,
   "metadata": {},
   "outputs": [],
   "source": [
    "\n",
    "data['score_difference'] = data['home_score'] - data['away_score']\n",
    "# Selecting relevant columns for prediction\n",
    "selected_features = ['home_score', 'away_score', 'gameweek', 'home_team', 'away_team']\n",
    "target = 'score_difference'  # Assuming you have a column for the target variable 'score_difference'\n",
    "\n",
    "# Encoding categorical variables (home_team and away_team)\n",
    "label_encoder = LabelEncoder()\n",
    "data['home_team'] = label_encoder.fit_transform(data['home_team'])\n",
    "data['away_team'] = label_encoder.transform(data['away_team'])\n",
    "\n",
    "# Preprocessing data\n",
    "X = data[selected_features]\n",
    "y = data[target]\n",
    "\n",
    "# Split the data into train and test sets\n",
    "X_train, X_test, y_train, y_test = train_test_split(X, y, test_size=0.2, random_state=42)\n"
   ]
  },
  {
   "cell_type": "code",
   "execution_count": 5,
   "metadata": {},
   "outputs": [
    {
     "name": "stdout",
     "output_type": "stream",
     "text": [
      "Epoch [100/1000], Loss: 1.2072\n",
      "Epoch [200/1000], Loss: 0.0234\n",
      "Epoch [300/1000], Loss: 0.0055\n",
      "Epoch [400/1000], Loss: 0.0029\n",
      "Epoch [500/1000], Loss: 0.0018\n",
      "Epoch [600/1000], Loss: 0.0012\n",
      "Epoch [700/1000], Loss: 0.0009\n",
      "Epoch [800/1000], Loss: 0.0006\n",
      "Epoch [900/1000], Loss: 0.0005\n",
      "Epoch [1000/1000], Loss: 0.0004\n"
     ]
    }
   ],
   "source": [
    "\n",
    "# Convert data to PyTorch tensors\n",
    "X_train_tensor = torch.from_numpy(X_train.astype(np.float32).values)\n",
    "y_train_tensor = torch.from_numpy(y_train.astype(np.float32).values)\n",
    "X_test_tensor = torch.from_numpy(X_test.astype(np.float32).values)\n",
    "y_test_tensor = torch.from_numpy(y_test.astype(np.float32).values)\n",
    "\n",
    "# Define the neural network architecture with team embeddings\n",
    "class FootballScorePredictor(nn.Module):\n",
    "    def __init__(self, input_size, team_vocab_size, embedding_dim, hidden_size, output_size):\n",
    "        super(FootballScorePredictor, self).__init__()\n",
    "        self.embedding_home = nn.Embedding(team_vocab_size, embedding_dim)\n",
    "        self.embedding_away = nn.Embedding(team_vocab_size, embedding_dim)\n",
    "        self.fc1 = nn.Linear(input_size + 2 * embedding_dim, hidden_size)\n",
    "        self.relu = nn.ReLU()\n",
    "        self.fc2 = nn.Linear(hidden_size, output_size)\n",
    "\n",
    "    # Inside the forward method of FootballScorePredictor class\n",
    "    def forward(self, x, home_team, away_team):\n",
    "        home_team = home_team.long()  # Convert to LongTensor\n",
    "        away_team = away_team.long()  # Convert to LongTensor\n",
    "        \n",
    "        embed_home = self.embedding_home(home_team)\n",
    "        embed_away = self.embedding_away(away_team)\n",
    "        x = torch.cat((x, embed_home, embed_away), dim=1)\n",
    "        x = self.fc1(x)\n",
    "        x = self.relu(x)\n",
    "        x = self.fc2(x)\n",
    "        return x\n",
    "\n",
    "\n",
    "# Initialize the model, define loss function, optimizer, and embeddings parameters\n",
    "input_size = len(selected_features)  # Update with the number of features\n",
    "team_vocab_size = len(label_encoder.classes_)\n",
    "embedding_dim = 10  # Dimensionality of team embeddings\n",
    "hidden_size = 64  # Number of neurons in the hidden layer\n",
    "output_size = 1  # Output size for regression (predicting score difference)\n",
    "model = FootballScorePredictor(input_size, team_vocab_size, embedding_dim, hidden_size, output_size)\n",
    "criterion = nn.MSELoss()  # Mean Squared Error loss for regression\n",
    "optimizer = optim.Adam(model.parameters(), lr=0.001)  # Adam optimizer\n",
    "\n",
    "# Training the model\n",
    "num_epochs = 1000\n",
    "for epoch in range(num_epochs):\n",
    "    # Forward pass\n",
    "    outputs = model(X_train_tensor, X_train_tensor[:, -2], X_train_tensor[:, -1])  # Pass team indices\n",
    "    loss = criterion(outputs.squeeze(), y_train_tensor)  # Squeeze to make output 1D for MSE loss\n",
    "\n",
    "    # Backward pass and optimization\n",
    "    optimizer.zero_grad()\n",
    "    loss.backward()\n",
    "    optimizer.step()\n",
    "\n",
    "    if (epoch + 1) % 100 == 0:\n",
    "        print(f'Epoch [{epoch+1}/{num_epochs}], Loss: {loss.item():.4f}')"
   ]
  },
  {
   "cell_type": "code",
   "execution_count": 6,
   "metadata": {},
   "outputs": [
    {
     "data": {
      "image/png": "[encoded data removed]",
      "text/plain": [
       "<Figure size 1000x800 with 1 Axes>"
      ]
     },
     "metadata": {},
     "output_type": "display_data"
    }
   ],
   "source": [
    "import matplotlib.pyplot as plt\n",
    "\n",
    "# Inside the evaluation section\n",
    "with torch.no_grad():\n",
    "    outputs = model(X_test_tensor, X_test_tensor[:, -2], X_test_tensor[:, -1])  # Pass team indices\n",
    "    outputs = outputs.squeeze().numpy()  # Convert predictions to NumPy array\n",
    "    y_test_np = y_test_tensor.numpy()  # Convert actual scores to NumPy array\n",
    "    home_teams = label_encoder.inverse_transform(X_test['home_team'])  # Inverse transform encoded home team labels\n",
    "    away_teams = label_encoder.inverse_transform(X_test['away_team'])  # Inverse transform encoded away team labels\n",
    "\n",
    "    # Create a scatter plot with team names as legends\n",
    "    plt.figure(figsize=(10, 8))\n",
    "    for i in range(len(outputs)):\n",
    "        plt.scatter(y_test_np[i], outputs[i], alpha=0.5, label=f\"{home_teams[i]} vs {away_teams[i]}\")\n",
    "\n",
    "    plt.title('Predicted vs Actual Score Differences')\n",
    "    plt.xlabel('Actual Score Differences')\n",
    "    plt.ylabel('Predicted Score Differences')\n",
    "    plt.legend(bbox_to_anchor=(1, 1), loc='upper left')  # Place legend outside the plot\n",
    "    plt.grid(True)\n",
    "    plt.show()\n"
   ]
  },
  {
   "cell_type": "code",
   "execution_count": 7,
   "metadata": {},
   "outputs": [
    {
     "data": {
      "application/vnd.plotly.v1+json": {
       "config": {
        "plotlyServerURL": "https://plot.ly"
       },
       "data": [
        {
         "customdata": [
          [
           "Spurs"
          ],
          [
           "Brentford"
          ],
          [
           "Chelsea"
          ],
          [
           "Man Utd"
          ],
          [
           "Everton"
          ]
         ],
         "hovertemplate": "Home Team=Southampton<br>Actual Score Differences=%{x}<br>Predicted Score Differences=%{y}<br>Away Team=%{customdata[0]}<extra></extra>",
         "legendgroup": "Southampton",
         "marker": {
          "color": "#636efa",
          "opacity": 0.7,
          "size": 8,
          "symbol": "circle"
         },
         "mode": "markers",
         "name": "Southampton",
         "orientation": "v",
         "showlegend": true,
         "type": "scatter",
         "x": [
          0,
          -2,
          1,
          -1,
          -1
         ],
         "xaxis": "x",
         "y": [
          0.062078208,
          -2.012803,
          0.97395754,
          -0.9868244,
          -0.95333254
         ],
         "yaxis": "y"
        },
        {
         "customdata": [
          [
           "Crystal Palace"
          ],
          [
           "Man City"
          ],
          [
           "West Ham"
          ]
         ],
         "hovertemplate": "Home Team=Brighton<br>Actual Score Differences=%{x}<br>Predicted Score Differences=%{y}<br>Away Team=%{customdata[0]}<extra></extra>",
         "legendgroup": "Brighton",
         "marker": {
          "color": "#EF553B",
          "opacity": 0.7,
          "size": 8,
          "symbol": "circle"
         },
         "mode": "markers",
         "name": "Brighton",
         "orientation": "v",
         "showlegend": true,
         "type": "scatter",
         "x": [
          1,
          0,
          4
         ],
         "xaxis": "x",
         "y": [
          1.0085183,
          -0.03775409,
          3.9635527
         ],
         "yaxis": "y"
        },
        {
         "customdata": [
          [
           "Leicester"
          ],
          [
           "Fulham"
          ],
          [
           "Everton"
          ],
          [
           "Nott'm Forest"
          ],
          [
           "Wolves"
          ]
         ],
         "hovertemplate": "Home Team=Brentford<br>Actual Score Differences=%{x}<br>Predicted Score Differences=%{y}<br>Away Team=%{customdata[0]}<extra></extra>",
         "legendgroup": "Brentford",
         "marker": {
          "color": "#00cc96",
          "opacity": 0.7,
          "size": 8,
          "symbol": "circle"
         },
         "mode": "markers",
         "name": "Brentford",
         "orientation": "v",
         "showlegend": true,
         "type": "scatter",
         "x": [
          0,
          1,
          0,
          1,
          0
         ],
         "xaxis": "x",
         "y": [
          -0.012195617,
          1.0194135,
          0.11040005,
          0.98260045,
          0.0687885
         ],
         "yaxis": "y"
        },
        {
         "customdata": [
          [
           "Spurs"
          ],
          [
           "Arsenal"
          ],
          [
           "Brighton"
          ]
         ],
         "hovertemplate": "Home Team=Nott'm Forest<br>Actual Score Differences=%{x}<br>Predicted Score Differences=%{y}<br>Away Team=%{customdata[0]}<extra></extra>",
         "legendgroup": "Nott'm Forest",
         "marker": {
          "color": "#ab63fa",
          "opacity": 0.7,
          "size": 8,
          "symbol": "circle"
         },
         "mode": "markers",
         "name": "Nott'm Forest",
         "orientation": "v",
         "showlegend": true,
         "type": "scatter",
         "x": [
          -2,
          1,
          2
         ],
         "xaxis": "x",
         "y": [
          -1.9732649,
          1.0879065,
          2.0331037
         ],
         "yaxis": "y"
        },
        {
         "customdata": [
          [
           "Leicester"
          ],
          [
           "Wolves"
          ],
          [
           "Brentford"
          ],
          [
           "Spurs"
          ]
         ],
         "hovertemplate": "Home Team=Chelsea<br>Actual Score Differences=%{x}<br>Predicted Score Differences=%{y}<br>Away Team=%{customdata[0]}<extra></extra>",
         "legendgroup": "Chelsea",
         "marker": {
          "color": "#FFA15A",
          "opacity": 0.7,
          "size": 8,
          "symbol": "circle"
         },
         "mode": "markers",
         "name": "Chelsea",
         "orientation": "v",
         "showlegend": true,
         "type": "scatter",
         "x": [
          1,
          3,
          -2,
          0
         ],
         "xaxis": "x",
         "y": [
          0.968035,
          2.904353,
          -2.017441,
          0.057996362
         ],
         "yaxis": "y"
        },
        {
         "customdata": [
          [
           "Fulham"
          ],
          [
           "Brentford"
          ],
          [
           "Man City"
          ],
          [
           "Chelsea"
          ],
          [
           "Southampton"
          ]
         ],
         "hovertemplate": "Home Team=Spurs<br>Actual Score Differences=%{x}<br>Predicted Score Differences=%{y}<br>Away Team=%{customdata[0]}<extra></extra>",
         "legendgroup": "Spurs",
         "marker": {
          "color": "#19d3f3",
          "opacity": 0.7,
          "size": 8,
          "symbol": "circle"
         },
         "mode": "markers",
         "name": "Spurs",
         "orientation": "v",
         "showlegend": true,
         "type": "scatter",
         "x": [
          1,
          -2,
          1,
          2,
          3
         ],
         "xaxis": "x",
         "y": [
          1.1901826,
          -2.0335104,
          0.9356065,
          1.940675,
          2.8864052
         ],
         "yaxis": "y"
        },
        {
         "customdata": [
          [
           "Nott'm Forest"
          ],
          [
           "West Ham"
          ],
          [
           "Leicester"
          ]
         ],
         "hovertemplate": "Home Team=Liverpool<br>Actual Score Differences=%{x}<br>Predicted Score Differences=%{y}<br>Away Team=%{customdata[0]}<extra></extra>",
         "legendgroup": "Liverpool",
         "marker": {
          "color": "#FF6692",
          "opacity": 0.7,
          "size": 8,
          "symbol": "circle"
         },
         "mode": "markers",
         "name": "Liverpool",
         "orientation": "v",
         "showlegend": true,
         "type": "scatter",
         "x": [
          1,
          1,
          1
         ],
         "xaxis": "x",
         "y": [
          1.0255923,
          1.0312694,
          1.0080606
         ],
         "yaxis": "y"
        },
        {
         "customdata": [
          [
           "Brighton"
          ],
          [
           "Aston Villa"
          ],
          [
           "Wolves"
          ],
          [
           "Newcastle"
          ],
          [
           "Nott'm Forest"
          ]
         ],
         "hovertemplate": "Home Team=Everton<br>Actual Score Differences=%{x}<br>Predicted Score Differences=%{y}<br>Away Team=%{customdata[0]}<extra></extra>",
         "legendgroup": "Everton",
         "marker": {
          "color": "#B6E880",
          "opacity": 0.7,
          "size": 8,
          "symbol": "circle"
         },
         "mode": "markers",
         "name": "Everton",
         "orientation": "v",
         "showlegend": true,
         "type": "scatter",
         "x": [
          -3,
          -2,
          -1,
          -3,
          0
         ],
         "xaxis": "x",
         "y": [
          -2.9038825,
          -2.0184278,
          -0.9675641,
          -3.0538507,
          0.040455073
         ],
         "yaxis": "y"
        },
        {
         "customdata": [
          [
           "Arsenal"
          ],
          [
           "Man City"
          ],
          [
           "Nott'm Forest"
          ]
         ],
         "hovertemplate": "Home Team=Leicester<br>Actual Score Differences=%{x}<br>Predicted Score Differences=%{y}<br>Away Team=%{customdata[0]}<extra></extra>",
         "legendgroup": "Leicester",
         "marker": {
          "color": "#FF97FF",
          "opacity": 0.7,
          "size": 8,
          "symbol": "circle"
         },
         "mode": "markers",
         "name": "Leicester",
         "orientation": "v",
         "showlegend": true,
         "type": "scatter",
         "x": [
          -1,
          -1,
          4
         ],
         "xaxis": "x",
         "y": [
          -0.9956553,
          -0.96021676,
          3.8069136
         ],
         "yaxis": "y"
        },
        {
         "customdata": [
          [
           "Newcastle"
          ],
          [
           "Leicester"
          ],
          [
           "Man City"
          ],
          [
           "Wolves"
          ],
          [
           "Chelsea"
          ]
         ],
         "hovertemplate": "Home Team=West Ham<br>Actual Score Differences=%{x}<br>Predicted Score Differences=%{y}<br>Away Team=%{customdata[0]}<extra></extra>",
         "legendgroup": "West Ham",
         "marker": {
          "color": "#FECB52",
          "opacity": 0.7,
          "size": 8,
          "symbol": "circle"
         },
         "mode": "markers",
         "name": "West Ham",
         "orientation": "v",
         "showlegend": true,
         "type": "scatter",
         "x": [
          -4,
          -2,
          -2,
          2,
          0
         ],
         "xaxis": "x",
         "y": [
          -4.055221,
          -1.9281064,
          -1.9075975,
          1.7196348,
          0.051921695
         ],
         "yaxis": "y"
        },
        {
         "customdata": [
          [
           "Bournemouth"
          ],
          [
           "Liverpool"
          ],
          [
           "Everton"
          ]
         ],
         "hovertemplate": "Home Team=Arsenal<br>Actual Score Differences=%{x}<br>Predicted Score Differences=%{y}<br>Away Team=%{customdata[0]}<extra></extra>",
         "legendgroup": "Arsenal",
         "marker": {
          "color": "#636efa",
          "opacity": 0.7,
          "size": 8,
          "symbol": "circle"
         },
         "mode": "markers",
         "name": "Arsenal",
         "orientation": "v",
         "showlegend": true,
         "type": "scatter",
         "x": [
          1,
          1,
          4
         ],
         "xaxis": "x",
         "y": [
          1.0039005,
          1.0122037,
          3.995012
         ],
         "yaxis": "y"
        },
        {
         "customdata": [
          [
           "Southampton"
          ],
          [
           "Nott'm Forest"
          ],
          [
           "Fulham"
          ],
          [
           "Spurs"
          ],
          [
           "Chelsea"
          ],
          [
           "Bournemouth"
          ]
         ],
         "hovertemplate": "Home Team=Wolves<br>Actual Score Differences=%{x}<br>Predicted Score Differences=%{y}<br>Away Team=%{customdata[0]}<extra></extra>",
         "legendgroup": "Wolves",
         "marker": {
          "color": "#EF553B",
          "opacity": 0.7,
          "size": 8,
          "symbol": "circle"
         },
         "mode": "markers",
         "name": "Wolves",
         "orientation": "v",
         "showlegend": true,
         "type": "scatter",
         "x": [
          1,
          1,
          0,
          1,
          1,
          -1
         ],
         "xaxis": "x",
         "y": [
          0.9124837,
          0.91190886,
          0.124340266,
          1.1019335,
          1.0212924,
          -0.94997454
         ],
         "yaxis": "y"
        },
        {
         "customdata": [
          [
           "Nott'm Forest"
          ],
          [
           "Arsenal"
          ],
          [
           "Newcastle"
          ],
          [
           "Bournemouth"
          ],
          [
           "Leeds"
          ]
         ],
         "hovertemplate": "Home Team=Crystal Palace<br>Actual Score Differences=%{x}<br>Predicted Score Differences=%{y}<br>Away Team=%{customdata[0]}<extra></extra>",
         "legendgroup": "Crystal Palace",
         "marker": {
          "color": "#00cc96",
          "opacity": 0.7,
          "size": 8,
          "symbol": "circle"
         },
         "mode": "markers",
         "name": "Crystal Palace",
         "orientation": "v",
         "showlegend": true,
         "type": "scatter",
         "x": [
          0,
          -2,
          0,
          2,
          1
         ],
         "xaxis": "x",
         "y": [
          -0.0071659386,
          -1.5161995,
          -0.0062015355,
          1.9737287,
          0.9287014
         ],
         "yaxis": "y"
        },
        {
         "customdata": [
          [
           "Southampton"
          ],
          [
           "Leicester"
          ],
          [
           "Newcastle"
          ]
         ],
         "hovertemplate": "Home Team=Man Utd<br>Actual Score Differences=%{x}<br>Predicted Score Differences=%{y}<br>Away Team=%{customdata[0]}<extra></extra>",
         "legendgroup": "Man Utd",
         "marker": {
          "color": "#ab63fa",
          "opacity": 0.7,
          "size": 8,
          "symbol": "circle"
         },
         "mode": "markers",
         "name": "Man Utd",
         "orientation": "v",
         "showlegend": true,
         "type": "scatter",
         "x": [
          0,
          3,
          0
         ],
         "xaxis": "x",
         "y": [
          0.028505534,
          2.9749522,
          0.0129776895
         ],
         "yaxis": "y"
        },
        {
         "customdata": [
          [
           "Arsenal"
          ],
          [
           "Brighton"
          ],
          [
           "West Ham"
          ],
          [
           "Wolves"
          ]
         ],
         "hovertemplate": "Home Team=Bournemouth<br>Actual Score Differences=%{x}<br>Predicted Score Differences=%{y}<br>Away Team=%{customdata[0]}<extra></extra>",
         "legendgroup": "Bournemouth",
         "marker": {
          "color": "#FFA15A",
          "opacity": 0.7,
          "size": 8,
          "symbol": "circle"
         },
         "mode": "markers",
         "name": "Bournemouth",
         "orientation": "v",
         "showlegend": true,
         "type": "scatter",
         "x": [
          -3,
          -2,
          -4,
          0
         ],
         "xaxis": "x",
         "y": [
          -2.1544733,
          -1.9461045,
          -3.9350126,
          0.27243945
         ],
         "yaxis": "y"
        },
        {
         "customdata": [
          [
           "Nott'm Forest"
          ],
          [
           "Brighton"
          ]
         ],
         "hovertemplate": "Home Team=Man City<br>Actual Score Differences=%{x}<br>Predicted Score Differences=%{y}<br>Away Team=%{customdata[0]}<extra></extra>",
         "legendgroup": "Man City",
         "marker": {
          "color": "#19d3f3",
          "opacity": 0.7,
          "size": 8,
          "symbol": "circle"
         },
         "mode": "markers",
         "name": "Man City",
         "orientation": "v",
         "showlegend": true,
         "type": "scatter",
         "x": [
          6,
          2
         ],
         "xaxis": "x",
         "y": [
          5.824573,
          1.9203999
         ],
         "yaxis": "y"
        },
        {
         "customdata": [
          [
           "Spurs"
          ],
          [
           "Bournemouth"
          ],
          [
           "Wolves"
          ],
          [
           "Leicester"
          ]
         ],
         "hovertemplate": "Home Team=Leeds<br>Actual Score Differences=%{x}<br>Predicted Score Differences=%{y}<br>Away Team=%{customdata[0]}<extra></extra>",
         "legendgroup": "Leeds",
         "marker": {
          "color": "#FF6692",
          "opacity": 0.7,
          "size": 8,
          "symbol": "circle"
         },
         "mode": "markers",
         "name": "Leeds",
         "orientation": "v",
         "showlegend": true,
         "type": "scatter",
         "x": [
          -3,
          1,
          1,
          0
         ],
         "xaxis": "x",
         "y": [
          -2.9458094,
          1.036893,
          0.9193256,
          -0.027164727
         ],
         "yaxis": "y"
        },
        {
         "customdata": [
          [
           "Arsenal"
          ],
          [
           "Leicester"
          ],
          [
           "Bournemouth"
          ]
         ],
         "hovertemplate": "Home Team=Newcastle<br>Actual Score Differences=%{x}<br>Predicted Score Differences=%{y}<br>Away Team=%{customdata[0]}<extra></extra>",
         "legendgroup": "Newcastle",
         "marker": {
          "color": "#B6E880",
          "opacity": 0.7,
          "size": 8,
          "symbol": "circle"
         },
         "mode": "markers",
         "name": "Newcastle",
         "orientation": "v",
         "showlegend": true,
         "type": "scatter",
         "x": [
          -2,
          0,
          0
         ],
         "xaxis": "x",
         "y": [
          -1.9741501,
          -0.009754449,
          0.13377263
         ],
         "yaxis": "y"
        },
        {
         "customdata": [
          [
           "Man City"
          ],
          [
           "Wolves"
          ],
          [
           "Brentford"
          ]
         ],
         "hovertemplate": "Home Team=Aston Villa<br>Actual Score Differences=%{x}<br>Predicted Score Differences=%{y}<br>Away Team=%{customdata[0]}<extra></extra>",
         "legendgroup": "Aston Villa",
         "marker": {
          "color": "#FF97FF",
          "opacity": 0.7,
          "size": 8,
          "symbol": "circle"
         },
         "mode": "markers",
         "name": "Aston Villa",
         "orientation": "v",
         "showlegend": true,
         "type": "scatter",
         "x": [
          0,
          0,
          4
         ],
         "xaxis": "x",
         "y": [
          -0.022068411,
          0.010140151,
          3.957988
         ],
         "yaxis": "y"
        },
        {
         "customdata": [
          [
           "Leeds"
          ],
          [
           "Aston Villa"
          ]
         ],
         "hovertemplate": "Home Team=Fulham<br>Actual Score Differences=%{x}<br>Predicted Score Differences=%{y}<br>Away Team=%{customdata[0]}<extra></extra>",
         "legendgroup": "Fulham",
         "marker": {
          "color": "#FECB52",
          "opacity": 0.7,
          "size": 8,
          "symbol": "circle"
         },
         "mode": "markers",
         "name": "Fulham",
         "orientation": "v",
         "showlegend": true,
         "type": "scatter",
         "x": [
          1,
          3
         ],
         "xaxis": "x",
         "y": [
          1.0180001,
          2.9971504
         ],
         "yaxis": "y"
        }
       ],
       "layout": {
        "legend": {
         "title": {
          "text": "Home Team"
         },
         "tracegroupgap": 0
        },
        "margin": {
         "t": 60
        },
        "template": {
         "data": {
          "bar": [
           {
            "error_x": {
             "color": "#2a3f5f"
            },
            "error_y": {
             "color": "#2a3f5f"
            },
            "marker": {
             "line": {
              "color": "#E5ECF6",
              "width": 0.5
             },
             "pattern": {
              "fillmode": "overlay",
              "size": 10,
              "solidity": 0.2
             }
            },
            "type": "bar"
           }
          ],
          "barpolar": [
           {
            "marker": {
             "line": {
              "color": "#E5ECF6",
              "width": 0.5
             },
             "pattern": {
              "fillmode": "overlay",
              "size": 10,
              "solidity": 0.2
             }
            },
            "type": "barpolar"
           }
          ],
          "carpet": [
           {
            "aaxis": {
             "endlinecolor": "#2a3f5f",
             "gridcolor": "white",
             "linecolor": "white",
             "minorgridcolor": "white",
             "startlinecolor": "#2a3f5f"
            },
            "baxis": {
             "endlinecolor": "#2a3f5f",
             "gridcolor": "white",
             "linecolor": "white",
             "minorgridcolor": "white",
             "startlinecolor": "#2a3f5f"
            },
            "type": "carpet"
           }
          ],
          "choropleth": [
           {
            "colorbar": {
             "outlinewidth": 0,
             "ticks": ""
            },
            "type": "choropleth"
           }
          ],
          "contour": [
           {
            "colorbar": {
             "outlinewidth": 0,
             "ticks": ""
            },
            "colorscale": [
             [
              0,
              "#0d0887"
             ],
             [
              0.1111111111111111,
              "#46039f"
             ],
             [
              0.2222222222222222,
              "#7201a8"
             ],
             [
              0.3333333333333333,
              "#9c179e"
             ],
             [
              0.4444444444444444,
              "#bd3786"
             ],
             [
              0.5555555555555556,
              "#d8576b"
             ],
             [
              0.6666666666666666,
              "#ed7953"
             ],
             [
              0.7777777777777778,
              "#fb9f3a"
             ],
             [
              0.8888888888888888,
              "#fdca26"
             ],
             [
              1,
              "#f0f921"
             ]
            ],
            "type": "contour"
           }
          ],
          "contourcarpet": [
           {
            "colorbar": {
             "outlinewidth": 0,
             "ticks": ""
            },
            "type": "contourcarpet"
           }
          ],
          "heatmap": [
           {
            "colorbar": {
             "outlinewidth": 0,
             "ticks": ""
            },
            "colorscale": [
             [
              0,
              "#0d0887"
             ],
             [
              0.1111111111111111,
              "#46039f"
             ],
             [
              0.2222222222222222,
              "#7201a8"
             ],
             [
              0.3333333333333333,
              "#9c179e"
             ],
             [
              0.4444444444444444,
              "#bd3786"
             ],
             [
              0.5555555555555556,
              "#d8576b"
             ],
             [
              0.6666666666666666,
              "#ed7953"
             ],
             [
              0.7777777777777778,
              "#fb9f3a"
             ],
             [
              0.8888888888888888,
              "#fdca26"
             ],
             [
              1,
              "#f0f921"
             ]
            ],
            "type": "heatmap"
           }
          ],
          "heatmapgl": [
           {
            "colorbar": {
             "outlinewidth": 0,
             "ticks": ""
            },
            "colorscale": [
             [
              0,
              "#0d0887"
             ],
             [
              0.1111111111111111,
              "#46039f"
             ],
             [
              0.2222222222222222,
              "#7201a8"
             ],
             [
              0.3333333333333333,
              "#9c179e"
             ],
             [
              0.4444444444444444,
              "#bd3786"
             ],
             [
              0.5555555555555556,
              "#d8576b"
             ],
             [
              0.6666666666666666,
              "#ed7953"
             ],
             [
              0.7777777777777778,
              "#fb9f3a"
             ],
             [
              0.8888888888888888,
              "#fdca26"
             ],
             [
              1,
              "#f0f921"
             ]
            ],
            "type": "heatmapgl"
           }
          ],
          "histogram": [
           {
            "marker": {
             "pattern": {
              "fillmode": "overlay",
              "size": 10,
              "solidity": 0.2
             }
            },
            "type": "histogram"
           }
          ],
          "histogram2d": [
           {
            "colorbar": {
             "outlinewidth": 0,
             "ticks": ""
            },
            "colorscale": [
             [
              0,
              "#0d0887"
             ],
             [
              0.1111111111111111,
              "#46039f"
             ],
             [
              0.2222222222222222,
              "#7201a8"
             ],
             [
              0.3333333333333333,
              "#9c179e"
             ],
             [
              0.4444444444444444,
              "#bd3786"
             ],
             [
              0.5555555555555556,
              "#d8576b"
             ],
             [
              0.6666666666666666,
              "#ed7953"
             ],
             [
              0.7777777777777778,
              "#fb9f3a"
             ],
             [
              0.8888888888888888,
              "#fdca26"
             ],
             [
              1,
              "#f0f921"
             ]
            ],
            "type": "histogram2d"
           }
          ],
          "histogram2dcontour": [
           {
            "colorbar": {
             "outlinewidth": 0,
             "ticks": ""
            },
            "colorscale": [
             [
              0,
              "#0d0887"
             ],
             [
              0.1111111111111111,
              "#46039f"
             ],
             [
              0.2222222222222222,
              "#7201a8"
             ],
             [
              0.3333333333333333,
              "#9c179e"
             ],
             [
              0.4444444444444444,
              "#bd3786"
             ],
             [
              0.5555555555555556,
              "#d8576b"
             ],
             [
              0.6666666666666666,
              "#ed7953"
             ],
             [
              0.7777777777777778,
              "#fb9f3a"
             ],
             [
              0.8888888888888888,
              "#fdca26"
             ],
             [
              1,
              "#f0f921"
             ]
            ],
            "type": "histogram2dcontour"
           }
          ],
          "mesh3d": [
           {
            "colorbar": {
             "outlinewidth": 0,
             "ticks": ""
            },
            "type": "mesh3d"
           }
          ],
          "parcoords": [
           {
            "line": {
             "colorbar": {
              "outlinewidth": 0,
              "ticks": ""
             }
            },
            "type": "parcoords"
           }
          ],
          "pie": [
           {
            "automargin": true,
            "type": "pie"
           }
          ],
          "scatter": [
           {
            "fillpattern": {
             "fillmode": "overlay",
             "size": 10,
             "solidity": 0.2
            },
            "type": "scatter"
           }
          ],
          "scatter3d": [
           {
            "line": {
             "colorbar": {
              "outlinewidth": 0,
              "ticks": ""
             }
            },
            "marker": {
             "colorbar": {
              "outlinewidth": 0,
              "ticks": ""
             }
            },
            "type": "scatter3d"
           }
          ],
          "scattercarpet": [
           {
            "marker": {
             "colorbar": {
              "outlinewidth": 0,
              "ticks": ""
             }
            },
            "type": "scattercarpet"
           }
          ],
          "scattergeo": [
           {
            "marker": {
             "colorbar": {
              "outlinewidth": 0,
              "ticks": ""
             }
            },
            "type": "scattergeo"
           }
          ],
          "scattergl": [
           {
            "marker": {
             "colorbar": {
              "outlinewidth": 0,
              "ticks": ""
             }
            },
            "type": "scattergl"
           }
          ],
          "scattermapbox": [
           {
            "marker": {
             "colorbar": {
              "outlinewidth": 0,
              "ticks": ""
             }
            },
            "type": "scattermapbox"
           }
          ],
          "scatterpolar": [
           {
            "marker": {
             "colorbar": {
              "outlinewidth": 0,
              "ticks": ""
             }
            },
            "type": "scatterpolar"
           }
          ],
          "scatterpolargl": [
           {
            "marker": {
             "colorbar": {
              "outlinewidth": 0,
              "ticks": ""
             }
            },
            "type": "scatterpolargl"
           }
          ],
          "scatterternary": [
           {
            "marker": {
             "colorbar": {
              "outlinewidth": 0,
              "ticks": ""
             }
            },
            "type": "scatterternary"
           }
          ],
          "surface": [
           {
            "colorbar": {
             "outlinewidth": 0,
             "ticks": ""
            },
            "colorscale": [
             [
              0,
              "#0d0887"
             ],
             [
              0.1111111111111111,
              "#46039f"
             ],
             [
              0.2222222222222222,
              "#7201a8"
             ],
             [
              0.3333333333333333,
              "#9c179e"
             ],
             [
              0.4444444444444444,
              "#bd3786"
             ],
             [
              0.5555555555555556,
              "#d8576b"
             ],
             [
              0.6666666666666666,
              "#ed7953"
             ],
             [
              0.7777777777777778,
              "#fb9f3a"
             ],
             [
              0.8888888888888888,
              "#fdca26"
             ],
             [
              1,
              "#f0f921"
             ]
            ],
            "type": "surface"
           }
          ],
          "table": [
           {
            "cells": {
             "fill": {
              "color": "#EBF0F8"
             },
             "line": {
              "color": "white"
             }
            },
            "header": {
             "fill": {
              "color": "#C8D4E3"
             },
             "line": {
              "color": "white"
             }
            },
            "type": "table"
           }
          ]
         },
         "layout": {
          "annotationdefaults": {
           "arrowcolor": "#2a3f5f",
           "arrowhead": 0,
           "arrowwidth": 1
          },
          "autotypenumbers": "strict",
          "coloraxis": {
           "colorbar": {
            "outlinewidth": 0,
            "ticks": ""
           }
          },
          "colorscale": {
           "diverging": [
            [
             0,
             "#8e0152"
            ],
            [
             0.1,
             "#c51b7d"
            ],
            [
             0.2,
             "#de77ae"
            ],
            [
             0.3,
             "#f1b6da"
            ],
            [
             0.4,
             "#fde0ef"
            ],
            [
             0.5,
             "#f7f7f7"
            ],
            [
             0.6,
             "#e6f5d0"
            ],
            [
             0.7,
             "#b8e186"
            ],
            [
             0.8,
             "#7fbc41"
            ],
            [
             0.9,
             "#4d9221"
            ],
            [
             1,
             "#276419"
            ]
           ],
           "sequential": [
            [
             0,
             "#0d0887"
            ],
            [
             0.1111111111111111,
             "#46039f"
            ],
            [
             0.2222222222222222,
             "#7201a8"
            ],
            [
             0.3333333333333333,
             "#9c179e"
            ],
            [
             0.4444444444444444,
             "#bd3786"
            ],
            [
             0.5555555555555556,
             "#d8576b"
            ],
            [
             0.6666666666666666,
             "#ed7953"
            ],
            [
             0.7777777777777778,
             "#fb9f3a"
            ],
            [
             0.8888888888888888,
             "#fdca26"
            ],
            [
             1,
             "#f0f921"
            ]
           ],
           "sequentialminus": [
            [
             0,
             "#0d0887"
            ],
            [
             0.1111111111111111,
             "#46039f"
            ],
            [
             0.2222222222222222,
             "#7201a8"
            ],
            [
             0.3333333333333333,
             "#9c179e"
            ],
            [
             0.4444444444444444,
             "#bd3786"
            ],
            [
             0.5555555555555556,
             "#d8576b"
            ],
            [
             0.6666666666666666,
             "#ed7953"
            ],
            [
             0.7777777777777778,
             "#fb9f3a"
            ],
            [
             0.8888888888888888,
             "#fdca26"
            ],
            [
             1,
             "#f0f921"
            ]
           ]
          },
          "colorway": [
           "#636efa",
           "#EF553B",
           "#00cc96",
           "#ab63fa",
           "#FFA15A",
           "#19d3f3",
           "#FF6692",
           "#B6E880",
           "#FF97FF",
           "#FECB52"
          ],
          "font": {
           "color": "#2a3f5f"
          },
          "geo": {
           "bgcolor": "white",
           "lakecolor": "white",
           "landcolor": "#E5ECF6",
           "showlakes": true,
           "showland": true,
           "subunitcolor": "white"
          },
          "hoverlabel": {
           "align": "left"
          },
          "hovermode": "closest",
          "mapbox": {
           "style": "light"
          },
          "paper_bgcolor": "white",
          "plot_bgcolor": "#E5ECF6",
          "polar": {
           "angularaxis": {
            "gridcolor": "white",
            "linecolor": "white",
            "ticks": ""
           },
           "bgcolor": "#E5ECF6",
           "radialaxis": {
            "gridcolor": "white",
            "linecolor": "white",
            "ticks": ""
           }
          },
          "scene": {
           "xaxis": {
            "backgroundcolor": "#E5ECF6",
            "gridcolor": "white",
            "gridwidth": 2,
            "linecolor": "white",
            "showbackground": true,
            "ticks": "",
            "zerolinecolor": "white"
           },
           "yaxis": {
            "backgroundcolor": "#E5ECF6",
            "gridcolor": "white",
            "gridwidth": 2,
            "linecolor": "white",
            "showbackground": true,
            "ticks": "",
            "zerolinecolor": "white"
           },
           "zaxis": {
            "backgroundcolor": "#E5ECF6",
            "gridcolor": "white",
            "gridwidth": 2,
            "linecolor": "white",
            "showbackground": true,
            "ticks": "",
            "zerolinecolor": "white"
           }
          },
          "shapedefaults": {
           "line": {
            "color": "#2a3f5f"
           }
          },
          "ternary": {
           "aaxis": {
            "gridcolor": "white",
            "linecolor": "white",
            "ticks": ""
           },
           "baxis": {
            "gridcolor": "white",
            "linecolor": "white",
            "ticks": ""
           },
           "bgcolor": "#E5ECF6",
           "caxis": {
            "gridcolor": "white",
            "linecolor": "white",
            "ticks": ""
           }
          },
          "title": {
           "x": 0.05
          },
          "xaxis": {
           "automargin": true,
           "gridcolor": "white",
           "linecolor": "white",
           "ticks": "",
           "title": {
            "standoff": 15
           },
           "zerolinecolor": "white",
           "zerolinewidth": 2
          },
          "yaxis": {
           "automargin": true,
           "gridcolor": "white",
           "linecolor": "white",
           "ticks": "",
           "title": {
            "standoff": 15
           },
           "zerolinecolor": "white",
           "zerolinewidth": 2
          }
         }
        },
        "title": {
         "text": "Predicted vs Actual Score Differences"
        },
        "xaxis": {
         "anchor": "y",
         "domain": [
          0,
          1
         ],
         "title": {
          "text": "Actual Score Differences"
         }
        },
        "yaxis": {
         "anchor": "x",
         "domain": [
          0,
          1
         ],
         "title": {
          "text": "Predicted Score Differences"
         }
        }
       }
      }
     },
     "metadata": {},
     "output_type": "display_data"
    }
   ],
   "source": [
    "import plotly.express as px\n",
    "\n",
    "# Inside the evaluation section\n",
    "with torch.no_grad():\n",
    "    outputs = model(X_test_tensor, X_test_tensor[:, -2], X_test_tensor[:, -1])  # Pass team indices\n",
    "    outputs = outputs.squeeze().numpy()  # Convert predictions to NumPy array\n",
    "    y_test_np = y_test_tensor.numpy()  # Convert actual scores to NumPy array\n",
    "    home_teams = label_encoder.inverse_transform(X_test['home_team'])  # Inverse transform encoded home team labels\n",
    "    away_teams = label_encoder.inverse_transform(X_test['away_team'])  # Inverse transform encoded away team labels\n",
    "\n",
    "    # Create a DataFrame with the data\n",
    "    df = pd.DataFrame({\n",
    "        'Actual Score Differences': y_test_np,\n",
    "        'Predicted Score Differences': outputs,\n",
    "        'Home Team': home_teams,\n",
    "        'Away Team': away_teams\n",
    "    })\n",
    "\n",
    "    # Create an interactive scatter plot using Plotly Express\n",
    "    fig = px.scatter(df, x='Actual Score Differences', y='Predicted Score Differences',\n",
    "                     color='Home Team', hover_data=['Away Team'])\n",
    "    fig.update_traces(marker=dict(size=8, opacity=0.7),\n",
    "                      selector=dict(mode='markers'))\n",
    "    fig.update_layout(title='Predicted vs Actual Score Differences',\n",
    "                      xaxis_title='Actual Score Differences',\n",
    "                      yaxis_title='Predicted Score Differences')\n",
    "    fig.show()\n"
   ]
  }
 ],
 "metadata": {
  "kernelspec": {
   "display_name": "Python 3",
   "language": "python",
   "name": "python3"
  },
  "language_info": {
   "codemirror_mode": {
    "name": "ipython",
    "version": 3
   },
   "file_extension": ".py",
   "mimetype": "text/x-python",
   "name": "python",
   "nbconvert_exporter": "python",
   "pygments_lexer": "ipython3",
   "version": "3.11.3"
  }
 },
 "nbformat": 4,
 "nbformat_minor": 2
}
