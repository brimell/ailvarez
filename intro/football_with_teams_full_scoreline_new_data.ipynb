{
 "cells": [
  {
   "cell_type": "markdown",
   "metadata": {},
   "source": [
    "# fotmob"
   ]
  },
  {
   "cell_type": "code",
   "execution_count": 98,
   "metadata": {},
   "outputs": [],
   "source": [
    "import re\n",
    "import urllib.parse\n",
    "from logging import getLevelName, getLogger\n",
    "from typing import Optional, Union\n",
    "\n",
    "import requests\n",
    "from cachecontrol import CacheControl\n",
    "\n",
    "VERSION = \"1.2.0\"\n",
    "\n",
    "\n",
    "class FotMob:\n",
    "    BASE_URL = \"https://www.fotmob.com/api\"\n",
    "    LOGGER = getLogger(__name__)\n",
    "\n",
    "    def __init__(\n",
    "        self, proxies: Optional[dict] = None, logging_level: Optional[str] = \"WARNING\"\n",
    "    ) -> None:\n",
    "        SESSION = requests.Session()\n",
    "        if proxies:\n",
    "            SESSION.proxies.update(proxies)\n",
    "        CACHE_SESSION = CacheControl(SESSION)\n",
    "\n",
    "        if logging_level:\n",
    "            if logging_level.upper() in [\n",
    "                \"DEBUG\",\n",
    "                \"INFO\",\n",
    "                \"WARNING\",\n",
    "                \"ERROR\",\n",
    "                \"CRITICAL\",\n",
    "            ]:\n",
    "                self.LOGGER.setLevel(getLevelName(logging_level.upper()))\n",
    "            else:\n",
    "                print(f\"Logging level {logging_level} not recognized!\")\n",
    "\n",
    "        self.session = CACHE_SESSION\n",
    "        self.matches_url = f\"{self.BASE_URL}/matches?\"\n",
    "        self.leagues_url = f\"{self.BASE_URL}/leagues?\"\n",
    "        self.teams_url = f\"{self.BASE_URL}/teams?\"\n",
    "        self.player_url = f\"{self.BASE_URL}/playerData?\"\n",
    "        self.match_details_url = f\"{self.BASE_URL}/matchDetails?\"\n",
    "        self.search_url = f\"{self.BASE_URL}/searchData?\"\n",
    "        self.tv_listing_url = f\"{self.BASE_URL}/tvlisting?\"\n",
    "        self.tv_listings_url = f\"{self.BASE_URL}/tvlistings?\"\n",
    "        self.fixtures_url = f\"{self.BASE_URL}/fixtures?\"\n",
    "\n",
    "    def _check_date(self, date: str) -> Union[re.Match, None]:\n",
    "        pattern = re.compile(r\"(20\\d{2})(\\d{2})(\\d{2})\")\n",
    "        return pattern.match(date)\n",
    "\n",
    "    def _execute_query(self, url: str):\n",
    "        response = self.session.get(url)\n",
    "        response.raise_for_status()\n",
    "        self.LOGGER.debug(response)\n",
    "        return response.json()\n",
    "\n",
    "    def get_matches_by_date(\n",
    "        self, date: str, time_zone: str = \"America/New_York\"\n",
    "    ) -> dict:\n",
    "        if self._check_date(date) != None:\n",
    "            url = f\"{self.matches_url}date={date}\"\n",
    "            return self._execute_query(url)\n",
    "        return {}\n",
    "\n",
    "    def get_league(\n",
    "        self,\n",
    "        id: int,\n",
    "        tab: str = \"overview\",\n",
    "        type: str = \"league\",\n",
    "    ):\n",
    "        url = f\"{self.leagues_url}id={id}&tab={tab}&type={type}\"\n",
    "        return self._execute_query(url)\n",
    "\n",
    "    def get_team(\n",
    "        self,\n",
    "        id: int,\n",
    "        tab: str = \"overview\",\n",
    "        type: str = \"league\",\n",
    "        time_zone: str = \"America/New_York\",\n",
    "    ):\n",
    "        url = f\"{self.teams_url}id={id}&tab={tab}&type={type}\"\n",
    "        return self._execute_query(url)\n",
    "\n",
    "    def get_player(self, id: int):\n",
    "        url = f\"{self.player_url}id={id}\"\n",
    "        return self._execute_query(url)\n",
    "\n",
    "    def get_match_details(self, match_id: int):\n",
    "        url = f\"{self.match_details_url}matchId={match_id}\"\n",
    "        return self._execute_query(url)\n",
    "\n",
    "    def get_match_tv_listing(self, match_id: int, country_code: str = \"GB\"):\n",
    "        url = f\"{self.tv_listing_url}matchId={match_id}&countryCode={country_code}\"\n",
    "        return self._execute_query(url)\n",
    "\n",
    "    def get_tv_listings_country(self, country_code: str = \"GB\"):\n",
    "        url = f\"{self.tv_listings_url}countryCode={country_code}\"\n",
    "        return self._execute_query(url)\n",
    "\n",
    "    def search(self, term: str, user_language: str = \"en-GB,en\"):\n",
    "        searchterm = urllib.parse.quote_plus(term)\n",
    "        url = f\"{self.search_url}term={searchterm}&userLanguage={user_language}\"\n",
    "        return self._execute_query(url)\n",
    "\n",
    "    def get_fixtures(self, id: str, season: str):\n",
    "        url = f\"{self.fixtures_url}id={id}&season={season}%2F2024\"\n",
    "        print(url)\n",
    "        return self._execute_query(url)"
   ]
  },
  {
   "cell_type": "markdown",
   "metadata": {},
   "source": [
    "# main"
   ]
  },
  {
   "cell_type": "code",
   "execution_count": 99,
   "metadata": {},
   "outputs": [],
   "source": [
    "import torch\n",
    "import torch.nn as nn\n",
    "import torch.optim as optim\n",
    "import numpy as np\n",
    "from sklearn.model_selection import train_test_split\n",
    "from sklearn.preprocessing import LabelEncoder\n",
    "import pandas as pd"
   ]
  },
  {
   "cell_type": "code",
   "execution_count": 100,
   "metadata": {},
   "outputs": [
    {
     "name": "stdout",
     "output_type": "stream",
     "text": [
      "https://www.fotmob.com/api/fixtures?id=47&season=2023%2F2024\n"
     ]
    },
    {
     "data": {
      "text/html": [
       "<div>\n",
       "<style scoped>\n",
       "    .dataframe tbody tr th:only-of-type {\n",
       "        vertical-align: middle;\n",
       "    }\n",
       "\n",
       "    .dataframe tbody tr th {\n",
       "        vertical-align: top;\n",
       "    }\n",
       "\n",
       "    .dataframe thead th {\n",
       "        text-align: right;\n",
       "    }\n",
       "</style>\n",
       "<table border=\"1\" class=\"dataframe\">\n",
       "  <thead>\n",
       "    <tr style=\"text-align: right;\">\n",
       "      <th></th>\n",
       "      <th>home_score</th>\n",
       "      <th>away_score</th>\n",
       "      <th>home_team</th>\n",
       "      <th>away_team</th>\n",
       "    </tr>\n",
       "  </thead>\n",
       "  <tbody>\n",
       "    <tr>\n",
       "      <th>0</th>\n",
       "      <td>0</td>\n",
       "      <td>3</td>\n",
       "      <td>Burnley</td>\n",
       "      <td>Man City</td>\n",
       "    </tr>\n",
       "    <tr>\n",
       "      <th>1</th>\n",
       "      <td>2</td>\n",
       "      <td>1</td>\n",
       "      <td>Arsenal</td>\n",
       "      <td>Nottm Forest</td>\n",
       "    </tr>\n",
       "    <tr>\n",
       "      <th>2</th>\n",
       "      <td>1</td>\n",
       "      <td>1</td>\n",
       "      <td>Bournemouth</td>\n",
       "      <td>West Ham</td>\n",
       "    </tr>\n",
       "    <tr>\n",
       "      <th>3</th>\n",
       "      <td>4</td>\n",
       "      <td>1</td>\n",
       "      <td>Brighton</td>\n",
       "      <td>Luton</td>\n",
       "    </tr>\n",
       "    <tr>\n",
       "      <th>4</th>\n",
       "      <td>0</td>\n",
       "      <td>1</td>\n",
       "      <td>Everton</td>\n",
       "      <td>Fulham</td>\n",
       "    </tr>\n",
       "    <tr>\n",
       "      <th>...</th>\n",
       "      <td>...</td>\n",
       "      <td>...</td>\n",
       "      <td>...</td>\n",
       "      <td>...</td>\n",
       "    </tr>\n",
       "    <tr>\n",
       "      <th>116</th>\n",
       "      <td>1</td>\n",
       "      <td>1</td>\n",
       "      <td>Brighton</td>\n",
       "      <td>Sheff Utd</td>\n",
       "    </tr>\n",
       "    <tr>\n",
       "      <th>117</th>\n",
       "      <td>3</td>\n",
       "      <td>0</td>\n",
       "      <td>Liverpool</td>\n",
       "      <td>Brentford</td>\n",
       "    </tr>\n",
       "    <tr>\n",
       "      <th>118</th>\n",
       "      <td>3</td>\n",
       "      <td>2</td>\n",
       "      <td>West Ham</td>\n",
       "      <td>Nottm Forest</td>\n",
       "    </tr>\n",
       "    <tr>\n",
       "      <th>119</th>\n",
       "      <td>4</td>\n",
       "      <td>4</td>\n",
       "      <td>Chelsea</td>\n",
       "      <td>Man City</td>\n",
       "    </tr>\n",
       "    <tr>\n",
       "      <th>120</th>\n",
       "      <td>0</td>\n",
       "      <td>0</td>\n",
       "      <td>Man City</td>\n",
       "      <td>Brentford</td>\n",
       "    </tr>\n",
       "  </tbody>\n",
       "</table>\n",
       "<p>121 rows × 4 columns</p>\n",
       "</div>"
      ],
      "text/plain": [
       "     home_score  away_score    home_team     away_team\n",
       "0             0           3      Burnley      Man City\n",
       "1             2           1      Arsenal  Nottm Forest\n",
       "2             1           1  Bournemouth      West Ham\n",
       "3             4           1     Brighton         Luton\n",
       "4             0           1      Everton        Fulham\n",
       "..          ...         ...          ...           ...\n",
       "116           1           1     Brighton     Sheff Utd\n",
       "117           3           0    Liverpool     Brentford\n",
       "118           3           2     West Ham  Nottm Forest\n",
       "119           4           4      Chelsea      Man City\n",
       "120           0           0     Man City     Brentford\n",
       "\n",
       "[121 rows x 4 columns]"
      ]
     },
     "execution_count": 100,
     "metadata": {},
     "output_type": "execute_result"
    }
   ],
   "source": [
    "Fot = FotMob()\n",
    "f = Fot.get_fixtures(\"47\", \"2023\")\n",
    "# example data:\n",
    "\"\"\"\n",
    "[{'id': '4193450',\n",
    "  'pageUrl': '/matches/burnley-vs-manchester-city/2ai7j8#4193450',\n",
    "  'opponent': {'id': '8191', 'name': 'Burnley', 'score': 0},\n",
    "  'home': {'id': '8191', 'name': 'Burnley', 'score': 0},\n",
    "  'away': {'id': '8456', 'name': 'Man City', 'score': 3},\n",
    "  'displayTournament': True,\n",
    "  'lnameArr': ['A', ' | undefined'],\n",
    "  'notStarted': False,\n",
    "  'tournament': {},\n",
    "  'status': {'utcTime': '2023-08-11T19:00:00.000Z',\n",
    "   'finished': True,\n",
    "   'started': True,\n",
    "   'cancelled': False,\n",
    "   'scoreStr': '0 - 3',\n",
    "   'reason': {'short': 'FT',\n",
    "    'shortKey': 'fulltime_short',\n",
    "    'long': 'Full-Time',\n",
    "    'longKey': 'finished'}}}]\n",
    "\"\"\"\n",
    "\n",
    "extracted_data = []\n",
    "for match in f:\n",
    "    if match[\"status\"][\"finished\"]:\n",
    "        extracted_data.append(\n",
    "            {\n",
    "                \"home_score\": match[\"home\"][\"score\"],\n",
    "                \"away_score\": match[\"away\"][\"score\"],\n",
    "                \"home_team\": match[\"home\"][\"name\"],\n",
    "                \"away_team\": match[\"away\"][\"name\"],\n",
    "            }\n",
    "        )\n",
    "\n",
    "data = pd.DataFrame(extracted_data)\n",
    "data"
   ]
  },
  {
   "cell_type": "code",
   "execution_count": 101,
   "metadata": {},
   "outputs": [
    {
     "data": {
      "text/html": [
       "<div>\n",
       "<style scoped>\n",
       "    .dataframe tbody tr th:only-of-type {\n",
       "        vertical-align: middle;\n",
       "    }\n",
       "\n",
       "    .dataframe tbody tr th {\n",
       "        vertical-align: top;\n",
       "    }\n",
       "\n",
       "    .dataframe thead th {\n",
       "        text-align: right;\n",
       "    }\n",
       "</style>\n",
       "<table border=\"1\" class=\"dataframe\">\n",
       "  <thead>\n",
       "    <tr style=\"text-align: right;\">\n",
       "      <th></th>\n",
       "      <th>home_team</th>\n",
       "      <th>away_team</th>\n",
       "    </tr>\n",
       "  </thead>\n",
       "  <tbody>\n",
       "    <tr>\n",
       "      <th>0</th>\n",
       "      <td>5</td>\n",
       "      <td>12</td>\n",
       "    </tr>\n",
       "    <tr>\n",
       "      <th>1</th>\n",
       "      <td>0</td>\n",
       "      <td>15</td>\n",
       "    </tr>\n",
       "    <tr>\n",
       "      <th>2</th>\n",
       "      <td>2</td>\n",
       "      <td>18</td>\n",
       "    </tr>\n",
       "    <tr>\n",
       "      <th>3</th>\n",
       "      <td>4</td>\n",
       "      <td>11</td>\n",
       "    </tr>\n",
       "    <tr>\n",
       "      <th>4</th>\n",
       "      <td>8</td>\n",
       "      <td>9</td>\n",
       "    </tr>\n",
       "    <tr>\n",
       "      <th>...</th>\n",
       "      <td>...</td>\n",
       "      <td>...</td>\n",
       "    </tr>\n",
       "    <tr>\n",
       "      <th>116</th>\n",
       "      <td>4</td>\n",
       "      <td>16</td>\n",
       "    </tr>\n",
       "    <tr>\n",
       "      <th>117</th>\n",
       "      <td>10</td>\n",
       "      <td>3</td>\n",
       "    </tr>\n",
       "    <tr>\n",
       "      <th>118</th>\n",
       "      <td>18</td>\n",
       "      <td>15</td>\n",
       "    </tr>\n",
       "    <tr>\n",
       "      <th>119</th>\n",
       "      <td>6</td>\n",
       "      <td>12</td>\n",
       "    </tr>\n",
       "    <tr>\n",
       "      <th>120</th>\n",
       "      <td>12</td>\n",
       "      <td>3</td>\n",
       "    </tr>\n",
       "  </tbody>\n",
       "</table>\n",
       "<p>121 rows × 2 columns</p>\n",
       "</div>"
      ],
      "text/plain": [
       "     home_team  away_team\n",
       "0            5         12\n",
       "1            0         15\n",
       "2            2         18\n",
       "3            4         11\n",
       "4            8          9\n",
       "..         ...        ...\n",
       "116          4         16\n",
       "117         10          3\n",
       "118         18         15\n",
       "119          6         12\n",
       "120         12          3\n",
       "\n",
       "[121 rows x 2 columns]"
      ]
     },
     "execution_count": 101,
     "metadata": {},
     "output_type": "execute_result"
    }
   ],
   "source": [
    "selected_features = [\"home_team\", \"away_team\"]\n",
    "\n",
    "label_encoder = LabelEncoder()\n",
    "data[\"home_team\"] = label_encoder.fit_transform(data[\"home_team\"])\n",
    "data[\"away_team\"] = label_encoder.transform(data[\"away_team\"])\n",
    "\n",
    "X = data[selected_features]\n",
    "y_home = data[\"home_score\"]\n",
    "y_away = data[\"away_score\"]\n",
    "\n",
    "(\n",
    "    X_train,\n",
    "    X_test,\n",
    "    y_home_train,\n",
    "    y_home_test,\n",
    "    y_away_train,\n",
    "    y_away_test,\n",
    ") = train_test_split(X, y_home, y_away, test_size=0.2, random_state=42)\n",
    "\n",
    "X_train_tensor = torch.from_numpy(X_train.astype(np.float32).values)\n",
    "y_home_train_tensor = torch.from_numpy(y_home_train.astype(np.float32).values)\n",
    "y_away_train_tensor = torch.from_numpy(y_away_train.astype(np.float32).values)\n",
    "X_test_tensor = torch.from_numpy(X_test.astype(np.float32).values)\n",
    "y_home_test_tensor = torch.from_numpy(y_home_test.astype(np.float32).values)\n",
    "y_away_test_tensor = torch.from_numpy(y_away_test.astype(np.float32).values)\n",
    "\n",
    "X"
   ]
  },
  {
   "cell_type": "code",
   "execution_count": 108,
   "metadata": {},
   "outputs": [
    {
     "name": "stdout",
     "output_type": "stream",
     "text": [
      "Epoch [10000/100000], Total Loss: 0.0000\n",
      "Epoch [20000/100000], Total Loss: 0.0000\n",
      "Epoch [30000/100000], Total Loss: 0.0000\n",
      "Epoch [40000/100000], Total Loss: 0.0000\n",
      "Epoch [50000/100000], Total Loss: 0.0000\n",
      "Epoch [60000/100000], Total Loss: 0.0000\n",
      "Epoch [70000/100000], Total Loss: 0.0002\n",
      "Epoch [80000/100000], Total Loss: 0.0000\n",
      "Epoch [90000/100000], Total Loss: 0.0000\n",
      "Epoch [100000/100000], Total Loss: 0.0001\n"
     ]
    }
   ],
   "source": [
    "\n",
    "class FootballScorePredictor(nn.Module):\n",
    "    def __init__(self, input_size, team_vocab_size, embedding_dim, hidden_size, output_size):\n",
    "        super(FootballScorePredictor, self).__init__()\n",
    "        self.embedding_home = nn.Embedding(team_vocab_size, embedding_dim)\n",
    "        self.embedding_away = nn.Embedding(team_vocab_size, embedding_dim)\n",
    "        self.fc1 = nn.Linear(input_size + 2 * embedding_dim, hidden_size)\n",
    "        self.relu = nn.ReLU()\n",
    "        self.fc_home = nn.Linear(hidden_size, output_size)\n",
    "        self.fc_away = nn.Linear(hidden_size, output_size)\n",
    "\n",
    "    def forward(self, x, home_team, away_team):\n",
    "        home_team = home_team.long()\n",
    "        away_team = away_team.long()\n",
    "\n",
    "        embed_home = self.embedding_home(home_team)\n",
    "        embed_away = self.embedding_away(away_team)\n",
    "        x = torch.cat((x, embed_home, embed_away), dim=1)\n",
    "        x = self.fc1(x)\n",
    "        x = self.relu(x)\n",
    "        home_score = self.fc_home(x)\n",
    "        away_score = self.fc_away(x)\n",
    "        return home_score, away_score\n",
    "\n",
    "input_size = len(selected_features)  \n",
    "team_vocab_size = len(label_encoder.classes_)\n",
    "embedding_dim = 10  \n",
    "hidden_size = 64\n",
    "output_size = 1  \n",
    "model = FootballScorePredictor(input_size, team_vocab_size, embedding_dim, hidden_size, output_size)\n",
    "criterion = nn.MSELoss()  \n",
    "optimizer = optim.Adam(model.parameters(), lr=0.001)  \n",
    "\n",
    "\n",
    "num_epochs = 100000\n",
    "for epoch in range(num_epochs):\n",
    "    \n",
    "    home_outputs, away_outputs = model(X_train_tensor, X_train_tensor[:, -2], X_train_tensor[:, -1])  \n",
    "    loss_home = criterion(home_outputs.squeeze(), y_home_train_tensor)  \n",
    "    loss_away = criterion(away_outputs.squeeze(), y_away_train_tensor)  \n",
    "    loss = loss_home + loss_away  \n",
    "\n",
    "    \n",
    "    optimizer.zero_grad()\n",
    "    loss.backward()\n",
    "    optimizer.step()\n",
    "\n",
    "    if (epoch + 1) % 10000 == 0:\n",
    "        print(f'Epoch [{epoch+1}/{num_epochs}], Total Loss: {loss.item():.4f}')\n"
   ]
  },
  {
   "cell_type": "code",
   "execution_count": 103,
   "metadata": {},
   "outputs": [
    {
     "data": {
      "text/plain": [
       "(tensor([[18., 12.],\n",
       "         [ 8.,  0.],\n",
       "         [ 8.,  9.],\n",
       "         [ 4.,  2.],\n",
       "         [ 5.,  1.],\n",
       "         [18., 16.],\n",
       "         [ 9., 16.],\n",
       "         [15., 16.],\n",
       "         [ 1.,  7.],\n",
       "         [11., 10.],\n",
       "         [ 7.,  0.],\n",
       "         [13.,  7.],\n",
       "         [ 9.,  3.],\n",
       "         [ 7., 19.],\n",
       "         [ 7., 17.],\n",
       "         [18., 15.],\n",
       "         [19., 17.],\n",
       "         [ 5., 12.],\n",
       "         [17.,  9.],\n",
       "         [12.,  2.],\n",
       "         [19., 12.],\n",
       "         [14.,  3.],\n",
       "         [ 3.,  2.],\n",
       "         [11., 17.],\n",
       "         [13.,  4.]]),\n",
       " tensor([18.,  8.,  8.,  4.,  5., 18.,  9., 15.,  1., 11.,  7., 13.,  9.,  7.,\n",
       "          7., 18., 19.,  5., 17., 12., 19., 14.,  3., 11., 13.]),\n",
       " tensor([12.,  0.,  9.,  2.,  1., 16., 16., 16.,  7., 10.,  0.,  7.,  3., 19.,\n",
       "         17., 15., 17., 12.,  9.,  2., 12.,  3.,  2., 17.,  4.]))"
      ]
     },
     "execution_count": 103,
     "metadata": {},
     "output_type": "execute_result"
    }
   ],
   "source": [
    "X_test_tensor, X_test_tensor[:, -2], X_test_tensor[:, -1]"
   ]
  },
  {
   "cell_type": "code",
   "execution_count": 112,
   "metadata": {},
   "outputs": [
    {
     "data": {
      "application/vnd.plotly.v1+json": {
       "config": {
        "plotlyServerURL": "https://plot.ly"
       },
       "data": [
        {
         "customdata": [
          [
           "West Ham",
           "Man City"
          ],
          [
           "West Ham",
           "Sheff Utd"
          ],
          [
           "West Ham",
           "Nottm Forest"
          ]
         ],
         "hovertemplate": "Team=%{customdata[0]}<br>Actual Score=%{x}<br>Predicted Score=%{y}<br>Opponent=%{customdata[1]}<extra></extra>",
         "legendgroup": "West Ham",
         "marker": {
          "color": "#636efa",
          "opacity": 0.7,
          "size": 8,
          "symbol": "circle"
         },
         "mode": "markers",
         "name": "West Ham",
         "orientation": "v",
         "showlegend": true,
         "type": "scatter",
         "x": [
          1,
          2,
          3
         ],
         "xaxis": "x",
         "y": [
          3.944414,
          0.12951319,
          0.2656138
         ],
         "yaxis": "y"
        },
        {
         "customdata": [
          [
           "Everton",
           "Arsenal"
          ],
          [
           "Everton",
           "Fulham"
          ]
         ],
         "hovertemplate": "Team=%{customdata[0]}<br>Actual Score=%{x}<br>Predicted Score=%{y}<br>Opponent=%{customdata[1]}<extra></extra>",
         "legendgroup": "Everton",
         "marker": {
          "color": "#EF553B",
          "opacity": 0.7,
          "size": 8,
          "symbol": "circle"
         },
         "mode": "markers",
         "name": "Everton",
         "orientation": "v",
         "showlegend": true,
         "type": "scatter",
         "x": [
          0,
          0
         ],
         "xaxis": "x",
         "y": [
          2.6676614,
          1.5051473
         ],
         "yaxis": "y"
        },
        {
         "customdata": [
          [
           "Brighton",
           "Bournemouth"
          ],
          [
           "Brighton",
           "Man United"
          ]
         ],
         "hovertemplate": "Team=%{customdata[0]}<br>Actual Score=%{x}<br>Predicted Score=%{y}<br>Opponent=%{customdata[1]}<extra></extra>",
         "legendgroup": "Brighton",
         "marker": {
          "color": "#00cc96",
          "opacity": 0.7,
          "size": 8,
          "symbol": "circle"
         },
         "mode": "markers",
         "name": "Brighton",
         "orientation": "v",
         "showlegend": true,
         "type": "scatter",
         "x": [
          3,
          3
         ],
         "xaxis": "x",
         "y": [
          2.073871,
          0.86273164
         ],
         "yaxis": "y"
        },
        {
         "customdata": [
          [
           "Burnley",
           "Aston Villa"
          ],
          [
           "Burnley",
           "Man City"
          ]
         ],
         "hovertemplate": "Team=%{customdata[0]}<br>Actual Score=%{x}<br>Predicted Score=%{y}<br>Opponent=%{customdata[1]}<extra></extra>",
         "legendgroup": "Burnley",
         "marker": {
          "color": "#ab63fa",
          "opacity": 0.7,
          "size": 8,
          "symbol": "circle"
         },
         "mode": "markers",
         "name": "Burnley",
         "orientation": "v",
         "showlegend": true,
         "type": "scatter",
         "x": [
          1,
          0
         ],
         "xaxis": "x",
         "y": [
          2.197956,
          1.3456013
         ],
         "yaxis": "y"
        },
        {
         "customdata": [
          [
           "Fulham",
           "Sheff Utd"
          ],
          [
           "Fulham",
           "Brentford"
          ],
          [
           "Fulham",
           "Everton"
          ],
          [
           "Fulham",
           "Tottenham"
          ]
         ],
         "hovertemplate": "Team=%{customdata[0]}<br>Actual Score=%{x}<br>Predicted Score=%{y}<br>Opponent=%{customdata[1]}<extra></extra>",
         "legendgroup": "Fulham",
         "marker": {
          "color": "#FFA15A",
          "opacity": 0.7,
          "size": 8,
          "symbol": "circle"
         },
         "mode": "markers",
         "name": "Fulham",
         "orientation": "v",
         "showlegend": true,
         "type": "scatter",
         "x": [
          3,
          0,
          1,
          0
         ],
         "xaxis": "x",
         "y": [
          0.5000292,
          -0.22392552,
          1.4752449,
          0.050581735
         ],
         "yaxis": "y"
        },
        {
         "customdata": [
          [
           "Nottm Forest",
           "Sheff Utd"
          ],
          [
           "Nottm Forest",
           "West Ham"
          ]
         ],
         "hovertemplate": "Team=%{customdata[0]}<br>Actual Score=%{x}<br>Predicted Score=%{y}<br>Opponent=%{customdata[1]}<extra></extra>",
         "legendgroup": "Nottm Forest",
         "marker": {
          "color": "#19d3f3",
          "opacity": 0.7,
          "size": 8,
          "symbol": "circle"
         },
         "mode": "markers",
         "name": "Nottm Forest",
         "orientation": "v",
         "showlegend": true,
         "type": "scatter",
         "x": [
          2,
          2
         ],
         "xaxis": "x",
         "y": [
          0.8003028,
          -0.054631907
         ],
         "yaxis": "y"
        },
        {
         "customdata": [
          [
           "Aston Villa",
           "Crystal Palace"
          ],
          [
           "Aston Villa",
           "Burnley"
          ]
         ],
         "hovertemplate": "Team=%{customdata[0]}<br>Actual Score=%{x}<br>Predicted Score=%{y}<br>Opponent=%{customdata[1]}<extra></extra>",
         "legendgroup": "Aston Villa",
         "marker": {
          "color": "#FF6692",
          "opacity": 0.7,
          "size": 8,
          "symbol": "circle"
         },
         "mode": "markers",
         "name": "Aston Villa",
         "orientation": "v",
         "showlegend": true,
         "type": "scatter",
         "x": [
          3,
          3
         ],
         "xaxis": "x",
         "y": [
          2.0584488,
          2.0760014
         ],
         "yaxis": "y"
        },
        {
         "customdata": [
          [
           "Luton",
           "Liverpool"
          ],
          [
           "Luton",
           "Tottenham"
          ]
         ],
         "hovertemplate": "Team=%{customdata[0]}<br>Actual Score=%{x}<br>Predicted Score=%{y}<br>Opponent=%{customdata[1]}<extra></extra>",
         "legendgroup": "Luton",
         "marker": {
          "color": "#B6E880",
          "opacity": 0.7,
          "size": 8,
          "symbol": "circle"
         },
         "mode": "markers",
         "name": "Luton",
         "orientation": "v",
         "showlegend": true,
         "type": "scatter",
         "x": [
          1,
          0
         ],
         "xaxis": "x",
         "y": [
          0.5288568,
          3.274533
         ],
         "yaxis": "y"
        },
        {
         "customdata": [
          [
           "Crystal Palace",
           "Arsenal"
          ],
          [
           "Crystal Palace",
           "Wolves"
          ],
          [
           "Crystal Palace",
           "Tottenham"
          ],
          [
           "Crystal Palace",
           "Aston Villa"
          ],
          [
           "Crystal Palace",
           "Man United"
          ]
         ],
         "hovertemplate": "Team=%{customdata[0]}<br>Actual Score=%{x}<br>Predicted Score=%{y}<br>Opponent=%{customdata[1]}<extra></extra>",
         "legendgroup": "Crystal Palace",
         "marker": {
          "color": "#FF97FF",
          "opacity": 0.7,
          "size": 8,
          "symbol": "circle"
         },
         "mode": "markers",
         "name": "Crystal Palace",
         "orientation": "v",
         "showlegend": true,
         "type": "scatter",
         "x": [
          0,
          3,
          1,
          1,
          1
         ],
         "xaxis": "x",
         "y": [
          -0.9798671,
          0.86371505,
          2.7143443,
          0.5088147,
          0.12542678
         ],
         "yaxis": "y"
        },
        {
         "customdata": [
          [
           "Man United",
           "Crystal Palace"
          ],
          [
           "Man United",
           "Brighton"
          ]
         ],
         "hovertemplate": "Team=%{customdata[0]}<br>Actual Score=%{x}<br>Predicted Score=%{y}<br>Opponent=%{customdata[1]}<extra></extra>",
         "legendgroup": "Man United",
         "marker": {
          "color": "#FECB52",
          "opacity": 0.7,
          "size": 8,
          "symbol": "circle"
         },
         "mode": "markers",
         "name": "Man United",
         "orientation": "v",
         "showlegend": true,
         "type": "scatter",
         "x": [
          0,
          1
         ],
         "xaxis": "x",
         "y": [
          0.9095758,
          0.90348923
         ],
         "yaxis": "y"
        },
        {
         "customdata": [
          [
           "Wolves",
           "Tottenham"
          ],
          [
           "Wolves",
           "Man City"
          ],
          [
           "Wolves",
           "Crystal Palace"
          ]
         ],
         "hovertemplate": "Team=%{customdata[0]}<br>Actual Score=%{x}<br>Predicted Score=%{y}<br>Opponent=%{customdata[1]}<extra></extra>",
         "legendgroup": "Wolves",
         "marker": {
          "color": "#636efa",
          "opacity": 0.7,
          "size": 8,
          "symbol": "circle"
         },
         "mode": "markers",
         "name": "Wolves",
         "orientation": "v",
         "showlegend": true,
         "type": "scatter",
         "x": [
          2,
          2,
          2
         ],
         "xaxis": "x",
         "y": [
          3.7913487,
          3.3327434,
          0.3055394
         ],
         "yaxis": "y"
        },
        {
         "customdata": [
          [
           "Tottenham",
           "Fulham"
          ],
          [
           "Tottenham",
           "Crystal Palace"
          ],
          [
           "Tottenham",
           "Wolves"
          ],
          [
           "Tottenham",
           "Luton"
          ]
         ],
         "hovertemplate": "Team=%{customdata[0]}<br>Actual Score=%{x}<br>Predicted Score=%{y}<br>Opponent=%{customdata[1]}<extra></extra>",
         "legendgroup": "Tottenham",
         "marker": {
          "color": "#EF553B",
          "opacity": 0.7,
          "size": 8,
          "symbol": "circle"
         },
         "mode": "markers",
         "name": "Tottenham",
         "orientation": "v",
         "showlegend": true,
         "type": "scatter",
         "x": [
          2,
          2,
          1,
          1
         ],
         "xaxis": "x",
         "y": [
          3.3179934,
          2.9468362,
          2.066606,
          2.3337295
         ],
         "yaxis": "y"
        },
        {
         "customdata": [
          [
           "Man City",
           "Bournemouth"
          ],
          [
           "Man City",
           "West Ham"
          ],
          [
           "Man City",
           "Burnley"
          ],
          [
           "Man City",
           "Wolves"
          ]
         ],
         "hovertemplate": "Team=%{customdata[0]}<br>Actual Score=%{x}<br>Predicted Score=%{y}<br>Opponent=%{customdata[1]}<extra></extra>",
         "legendgroup": "Man City",
         "marker": {
          "color": "#00cc96",
          "opacity": 0.7,
          "size": 8,
          "symbol": "circle"
         },
         "mode": "markers",
         "name": "Man City",
         "orientation": "v",
         "showlegend": true,
         "type": "scatter",
         "x": [
          6,
          3,
          3,
          1
         ],
         "xaxis": "x",
         "y": [
          2.300692,
          3.02499,
          2.9038723,
          3.3188279
         ],
         "yaxis": "y"
        },
        {
         "customdata": [
          [
           "Newcastle",
           "Brentford"
          ]
         ],
         "hovertemplate": "Team=%{customdata[0]}<br>Actual Score=%{x}<br>Predicted Score=%{y}<br>Opponent=%{customdata[1]}<extra></extra>",
         "legendgroup": "Newcastle",
         "marker": {
          "color": "#ab63fa",
          "opacity": 0.7,
          "size": 8,
          "symbol": "circle"
         },
         "mode": "markers",
         "name": "Newcastle",
         "orientation": "v",
         "showlegend": true,
         "type": "scatter",
         "x": [
          1
         ],
         "xaxis": "x",
         "y": [
          3.6533673
         ],
         "yaxis": "y"
        },
        {
         "customdata": [
          [
           "Brentford",
           "Bournemouth"
          ],
          [
           "Brentford",
           "Fulham"
          ],
          [
           "Brentford",
           "Newcastle"
          ]
         ],
         "hovertemplate": "Team=%{customdata[0]}<br>Actual Score=%{x}<br>Predicted Score=%{y}<br>Opponent=%{customdata[1]}<extra></extra>",
         "legendgroup": "Brentford",
         "marker": {
          "color": "#FFA15A",
          "opacity": 0.7,
          "size": 8,
          "symbol": "circle"
         },
         "mode": "markers",
         "name": "Brentford",
         "orientation": "v",
         "showlegend": true,
         "type": "scatter",
         "x": [
          2,
          3,
          0
         ],
         "xaxis": "x",
         "y": [
          4.6225815,
          0.36821756,
          -0.28580618
         ],
         "yaxis": "y"
        },
        {
         "customdata": [
          [
           "Arsenal",
           "Everton"
          ],
          [
           "Arsenal",
           "Crystal Palace"
          ]
         ],
         "hovertemplate": "Team=%{customdata[0]}<br>Actual Score=%{x}<br>Predicted Score=%{y}<br>Opponent=%{customdata[1]}<extra></extra>",
         "legendgroup": "Arsenal",
         "marker": {
          "color": "#19d3f3",
          "opacity": 0.7,
          "size": 8,
          "symbol": "circle"
         },
         "mode": "markers",
         "name": "Arsenal",
         "orientation": "v",
         "showlegend": true,
         "type": "scatter",
         "x": [
          1,
          1
         ],
         "xaxis": "x",
         "y": [
          1.4528315,
          -0.21977033
         ],
         "yaxis": "y"
        },
        {
         "customdata": [
          [
           "Bournemouth",
           "Brighton"
          ],
          [
           "Bournemouth",
           "Man City"
          ],
          [
           "Bournemouth",
           "Brentford"
          ]
         ],
         "hovertemplate": "Team=%{customdata[0]}<br>Actual Score=%{x}<br>Predicted Score=%{y}<br>Opponent=%{customdata[1]}<extra></extra>",
         "legendgroup": "Bournemouth",
         "marker": {
          "color": "#FF6692",
          "opacity": 0.7,
          "size": 8,
          "symbol": "circle"
         },
         "mode": "markers",
         "name": "Bournemouth",
         "orientation": "v",
         "showlegend": true,
         "type": "scatter",
         "x": [
          1,
          1,
          2
         ],
         "xaxis": "x",
         "y": [
          0.28407422,
          0.46842277,
          0.7047297
         ],
         "yaxis": "y"
        },
        {
         "customdata": [
          [
           "Sheff Utd",
           "West Ham"
          ],
          [
           "Sheff Utd",
           "Fulham"
          ],
          [
           "Sheff Utd",
           "Nottm Forest"
          ]
         ],
         "hovertemplate": "Team=%{customdata[0]}<br>Actual Score=%{x}<br>Predicted Score=%{y}<br>Opponent=%{customdata[1]}<extra></extra>",
         "legendgroup": "Sheff Utd",
         "marker": {
          "color": "#B6E880",
          "opacity": 0.7,
          "size": 8,
          "symbol": "circle"
         },
         "mode": "markers",
         "name": "Sheff Utd",
         "orientation": "v",
         "showlegend": true,
         "type": "scatter",
         "x": [
          0,
          1,
          1
         ],
         "xaxis": "x",
         "y": [
          0.5074854,
          0.52171916,
          2.1863706
         ],
         "yaxis": "y"
        },
        {
         "customdata": [
          [
           "Liverpool",
           "Luton"
          ]
         ],
         "hovertemplate": "Team=%{customdata[0]}<br>Actual Score=%{x}<br>Predicted Score=%{y}<br>Opponent=%{customdata[1]}<extra></extra>",
         "legendgroup": "Liverpool",
         "marker": {
          "color": "#FF97FF",
          "opacity": 0.7,
          "size": 8,
          "symbol": "circle"
         },
         "mode": "markers",
         "name": "Liverpool",
         "orientation": "v",
         "showlegend": true,
         "type": "scatter",
         "x": [
          1
         ],
         "xaxis": "x",
         "y": [
          3.2264593
         ],
         "yaxis": "y"
        }
       ],
       "layout": {
        "legend": {
         "title": {
          "text": "Team"
         },
         "tracegroupgap": 0
        },
        "template": {
         "data": {
          "bar": [
           {
            "error_x": {
             "color": "#2a3f5f"
            },
            "error_y": {
             "color": "#2a3f5f"
            },
            "marker": {
             "line": {
              "color": "#E5ECF6",
              "width": 0.5
             },
             "pattern": {
              "fillmode": "overlay",
              "size": 10,
              "solidity": 0.2
             }
            },
            "type": "bar"
           }
          ],
          "barpolar": [
           {
            "marker": {
             "line": {
              "color": "#E5ECF6",
              "width": 0.5
             },
             "pattern": {
              "fillmode": "overlay",
              "size": 10,
              "solidity": 0.2
             }
            },
            "type": "barpolar"
           }
          ],
          "carpet": [
           {
            "aaxis": {
             "endlinecolor": "#2a3f5f",
             "gridcolor": "white",
             "linecolor": "white",
             "minorgridcolor": "white",
             "startlinecolor": "#2a3f5f"
            },
            "baxis": {
             "endlinecolor": "#2a3f5f",
             "gridcolor": "white",
             "linecolor": "white",
             "minorgridcolor": "white",
             "startlinecolor": "#2a3f5f"
            },
            "type": "carpet"
           }
          ],
          "choropleth": [
           {
            "colorbar": {
             "outlinewidth": 0,
             "ticks": ""
            },
            "type": "choropleth"
           }
          ],
          "contour": [
           {
            "colorbar": {
             "outlinewidth": 0,
             "ticks": ""
            },
            "colorscale": [
             [
              0,
              "#0d0887"
             ],
             [
              0.1111111111111111,
              "#46039f"
             ],
             [
              0.2222222222222222,
              "#7201a8"
             ],
             [
              0.3333333333333333,
              "#9c179e"
             ],
             [
              0.4444444444444444,
              "#bd3786"
             ],
             [
              0.5555555555555556,
              "#d8576b"
             ],
             [
              0.6666666666666666,
              "#ed7953"
             ],
             [
              0.7777777777777778,
              "#fb9f3a"
             ],
             [
              0.8888888888888888,
              "#fdca26"
             ],
             [
              1,
              "#f0f921"
             ]
            ],
            "type": "contour"
           }
          ],
          "contourcarpet": [
           {
            "colorbar": {
             "outlinewidth": 0,
             "ticks": ""
            },
            "type": "contourcarpet"
           }
          ],
          "heatmap": [
           {
            "colorbar": {
             "outlinewidth": 0,
             "ticks": ""
            },
            "colorscale": [
             [
              0,
              "#0d0887"
             ],
             [
              0.1111111111111111,
              "#46039f"
             ],
             [
              0.2222222222222222,
              "#7201a8"
             ],
             [
              0.3333333333333333,
              "#9c179e"
             ],
             [
              0.4444444444444444,
              "#bd3786"
             ],
             [
              0.5555555555555556,
              "#d8576b"
             ],
             [
              0.6666666666666666,
              "#ed7953"
             ],
             [
              0.7777777777777778,
              "#fb9f3a"
             ],
             [
              0.8888888888888888,
              "#fdca26"
             ],
             [
              1,
              "#f0f921"
             ]
            ],
            "type": "heatmap"
           }
          ],
          "heatmapgl": [
           {
            "colorbar": {
             "outlinewidth": 0,
             "ticks": ""
            },
            "colorscale": [
             [
              0,
              "#0d0887"
             ],
             [
              0.1111111111111111,
              "#46039f"
             ],
             [
              0.2222222222222222,
              "#7201a8"
             ],
             [
              0.3333333333333333,
              "#9c179e"
             ],
             [
              0.4444444444444444,
              "#bd3786"
             ],
             [
              0.5555555555555556,
              "#d8576b"
             ],
             [
              0.6666666666666666,
              "#ed7953"
             ],
             [
              0.7777777777777778,
              "#fb9f3a"
             ],
             [
              0.8888888888888888,
              "#fdca26"
             ],
             [
              1,
              "#f0f921"
             ]
            ],
            "type": "heatmapgl"
           }
          ],
          "histogram": [
           {
            "marker": {
             "pattern": {
              "fillmode": "overlay",
              "size": 10,
              "solidity": 0.2
             }
            },
            "type": "histogram"
           }
          ],
          "histogram2d": [
           {
            "colorbar": {
             "outlinewidth": 0,
             "ticks": ""
            },
            "colorscale": [
             [
              0,
              "#0d0887"
             ],
             [
              0.1111111111111111,
              "#46039f"
             ],
             [
              0.2222222222222222,
              "#7201a8"
             ],
             [
              0.3333333333333333,
              "#9c179e"
             ],
             [
              0.4444444444444444,
              "#bd3786"
             ],
             [
              0.5555555555555556,
              "#d8576b"
             ],
             [
              0.6666666666666666,
              "#ed7953"
             ],
             [
              0.7777777777777778,
              "#fb9f3a"
             ],
             [
              0.8888888888888888,
              "#fdca26"
             ],
             [
              1,
              "#f0f921"
             ]
            ],
            "type": "histogram2d"
           }
          ],
          "histogram2dcontour": [
           {
            "colorbar": {
             "outlinewidth": 0,
             "ticks": ""
            },
            "colorscale": [
             [
              0,
              "#0d0887"
             ],
             [
              0.1111111111111111,
              "#46039f"
             ],
             [
              0.2222222222222222,
              "#7201a8"
             ],
             [
              0.3333333333333333,
              "#9c179e"
             ],
             [
              0.4444444444444444,
              "#bd3786"
             ],
             [
              0.5555555555555556,
              "#d8576b"
             ],
             [
              0.6666666666666666,
              "#ed7953"
             ],
             [
              0.7777777777777778,
              "#fb9f3a"
             ],
             [
              0.8888888888888888,
              "#fdca26"
             ],
             [
              1,
              "#f0f921"
             ]
            ],
            "type": "histogram2dcontour"
           }
          ],
          "mesh3d": [
           {
            "colorbar": {
             "outlinewidth": 0,
             "ticks": ""
            },
            "type": "mesh3d"
           }
          ],
          "parcoords": [
           {
            "line": {
             "colorbar": {
              "outlinewidth": 0,
              "ticks": ""
             }
            },
            "type": "parcoords"
           }
          ],
          "pie": [
           {
            "automargin": true,
            "type": "pie"
           }
          ],
          "scatter": [
           {
            "fillpattern": {
             "fillmode": "overlay",
             "size": 10,
             "solidity": 0.2
            },
            "type": "scatter"
           }
          ],
          "scatter3d": [
           {
            "line": {
             "colorbar": {
              "outlinewidth": 0,
              "ticks": ""
             }
            },
            "marker": {
             "colorbar": {
              "outlinewidth": 0,
              "ticks": ""
             }
            },
            "type": "scatter3d"
           }
          ],
          "scattercarpet": [
           {
            "marker": {
             "colorbar": {
              "outlinewidth": 0,
              "ticks": ""
             }
            },
            "type": "scattercarpet"
           }
          ],
          "scattergeo": [
           {
            "marker": {
             "colorbar": {
              "outlinewidth": 0,
              "ticks": ""
             }
            },
            "type": "scattergeo"
           }
          ],
          "scattergl": [
           {
            "marker": {
             "colorbar": {
              "outlinewidth": 0,
              "ticks": ""
             }
            },
            "type": "scattergl"
           }
          ],
          "scattermapbox": [
           {
            "marker": {
             "colorbar": {
              "outlinewidth": 0,
              "ticks": ""
             }
            },
            "type": "scattermapbox"
           }
          ],
          "scatterpolar": [
           {
            "marker": {
             "colorbar": {
              "outlinewidth": 0,
              "ticks": ""
             }
            },
            "type": "scatterpolar"
           }
          ],
          "scatterpolargl": [
           {
            "marker": {
             "colorbar": {
              "outlinewidth": 0,
              "ticks": ""
             }
            },
            "type": "scatterpolargl"
           }
          ],
          "scatterternary": [
           {
            "marker": {
             "colorbar": {
              "outlinewidth": 0,
              "ticks": ""
             }
            },
            "type": "scatterternary"
           }
          ],
          "surface": [
           {
            "colorbar": {
             "outlinewidth": 0,
             "ticks": ""
            },
            "colorscale": [
             [
              0,
              "#0d0887"
             ],
             [
              0.1111111111111111,
              "#46039f"
             ],
             [
              0.2222222222222222,
              "#7201a8"
             ],
             [
              0.3333333333333333,
              "#9c179e"
             ],
             [
              0.4444444444444444,
              "#bd3786"
             ],
             [
              0.5555555555555556,
              "#d8576b"
             ],
             [
              0.6666666666666666,
              "#ed7953"
             ],
             [
              0.7777777777777778,
              "#fb9f3a"
             ],
             [
              0.8888888888888888,
              "#fdca26"
             ],
             [
              1,
              "#f0f921"
             ]
            ],
            "type": "surface"
           }
          ],
          "table": [
           {
            "cells": {
             "fill": {
              "color": "#EBF0F8"
             },
             "line": {
              "color": "white"
             }
            },
            "header": {
             "fill": {
              "color": "#C8D4E3"
             },
             "line": {
              "color": "white"
             }
            },
            "type": "table"
           }
          ]
         },
         "layout": {
          "annotationdefaults": {
           "arrowcolor": "#2a3f5f",
           "arrowhead": 0,
           "arrowwidth": 1
          },
          "autotypenumbers": "strict",
          "coloraxis": {
           "colorbar": {
            "outlinewidth": 0,
            "ticks": ""
           }
          },
          "colorscale": {
           "diverging": [
            [
             0,
             "#8e0152"
            ],
            [
             0.1,
             "#c51b7d"
            ],
            [
             0.2,
             "#de77ae"
            ],
            [
             0.3,
             "#f1b6da"
            ],
            [
             0.4,
             "#fde0ef"
            ],
            [
             0.5,
             "#f7f7f7"
            ],
            [
             0.6,
             "#e6f5d0"
            ],
            [
             0.7,
             "#b8e186"
            ],
            [
             0.8,
             "#7fbc41"
            ],
            [
             0.9,
             "#4d9221"
            ],
            [
             1,
             "#276419"
            ]
           ],
           "sequential": [
            [
             0,
             "#0d0887"
            ],
            [
             0.1111111111111111,
             "#46039f"
            ],
            [
             0.2222222222222222,
             "#7201a8"
            ],
            [
             0.3333333333333333,
             "#9c179e"
            ],
            [
             0.4444444444444444,
             "#bd3786"
            ],
            [
             0.5555555555555556,
             "#d8576b"
            ],
            [
             0.6666666666666666,
             "#ed7953"
            ],
            [
             0.7777777777777778,
             "#fb9f3a"
            ],
            [
             0.8888888888888888,
             "#fdca26"
            ],
            [
             1,
             "#f0f921"
            ]
           ],
           "sequentialminus": [
            [
             0,
             "#0d0887"
            ],
            [
             0.1111111111111111,
             "#46039f"
            ],
            [
             0.2222222222222222,
             "#7201a8"
            ],
            [
             0.3333333333333333,
             "#9c179e"
            ],
            [
             0.4444444444444444,
             "#bd3786"
            ],
            [
             0.5555555555555556,
             "#d8576b"
            ],
            [
             0.6666666666666666,
             "#ed7953"
            ],
            [
             0.7777777777777778,
             "#fb9f3a"
            ],
            [
             0.8888888888888888,
             "#fdca26"
            ],
            [
             1,
             "#f0f921"
            ]
           ]
          },
          "colorway": [
           "#636efa",
           "#EF553B",
           "#00cc96",
           "#ab63fa",
           "#FFA15A",
           "#19d3f3",
           "#FF6692",
           "#B6E880",
           "#FF97FF",
           "#FECB52"
          ],
          "font": {
           "color": "#2a3f5f"
          },
          "geo": {
           "bgcolor": "white",
           "lakecolor": "white",
           "landcolor": "#E5ECF6",
           "showlakes": true,
           "showland": true,
           "subunitcolor": "white"
          },
          "hoverlabel": {
           "align": "left"
          },
          "hovermode": "closest",
          "mapbox": {
           "style": "light"
          },
          "paper_bgcolor": "white",
          "plot_bgcolor": "#E5ECF6",
          "polar": {
           "angularaxis": {
            "gridcolor": "white",
            "linecolor": "white",
            "ticks": ""
           },
           "bgcolor": "#E5ECF6",
           "radialaxis": {
            "gridcolor": "white",
            "linecolor": "white",
            "ticks": ""
           }
          },
          "scene": {
           "xaxis": {
            "backgroundcolor": "#E5ECF6",
            "gridcolor": "white",
            "gridwidth": 2,
            "linecolor": "white",
            "showbackground": true,
            "ticks": "",
            "zerolinecolor": "white"
           },
           "yaxis": {
            "backgroundcolor": "#E5ECF6",
            "gridcolor": "white",
            "gridwidth": 2,
            "linecolor": "white",
            "showbackground": true,
            "ticks": "",
            "zerolinecolor": "white"
           },
           "zaxis": {
            "backgroundcolor": "#E5ECF6",
            "gridcolor": "white",
            "gridwidth": 2,
            "linecolor": "white",
            "showbackground": true,
            "ticks": "",
            "zerolinecolor": "white"
           }
          },
          "shapedefaults": {
           "line": {
            "color": "#2a3f5f"
           }
          },
          "ternary": {
           "aaxis": {
            "gridcolor": "white",
            "linecolor": "white",
            "ticks": ""
           },
           "baxis": {
            "gridcolor": "white",
            "linecolor": "white",
            "ticks": ""
           },
           "bgcolor": "#E5ECF6",
           "caxis": {
            "gridcolor": "white",
            "linecolor": "white",
            "ticks": ""
           }
          },
          "title": {
           "x": 0.05
          },
          "xaxis": {
           "automargin": true,
           "gridcolor": "white",
           "linecolor": "white",
           "ticks": "",
           "title": {
            "standoff": 15
           },
           "zerolinecolor": "white",
           "zerolinewidth": 2
          },
          "yaxis": {
           "automargin": true,
           "gridcolor": "white",
           "linecolor": "white",
           "ticks": "",
           "title": {
            "standoff": 15
           },
           "zerolinecolor": "white",
           "zerolinewidth": 2
          }
         }
        },
        "title": {
         "text": "Teams Performance: Predicted vs Actual Scores"
        },
        "xaxis": {
         "anchor": "y",
         "domain": [
          0,
          1
         ],
         "title": {
          "text": "Actual Score"
         }
        },
        "yaxis": {
         "anchor": "x",
         "domain": [
          0,
          1
         ],
         "title": {
          "text": "Predicted Score"
         }
        }
       }
      }
     },
     "metadata": {},
     "output_type": "display_data"
    }
   ],
   "source": [
    "import plotly.express as px\n",
    "\n",
    "\n",
    "with torch.no_grad():\n",
    "    home_outputs, away_outputs = model(X_test_tensor, X_test_tensor[:, -2], X_test_tensor[:, -1])  \n",
    "    home_outputs = home_outputs.squeeze().numpy()  \n",
    "    away_outputs = away_outputs.squeeze().numpy()  \n",
    "    y_home_test_np = y_home_test_tensor.numpy()  \n",
    "    y_away_test_np = y_away_test_tensor.numpy()  \n",
    "    home_teams = label_encoder.inverse_transform(X_test['home_team'])  \n",
    "    away_teams = label_encoder.inverse_transform(X_test['away_team'])  \n",
    "\n",
    "    \n",
    "    df_home = pd.DataFrame({\n",
    "        'Team': home_teams,\n",
    "        'Opponent': away_teams,\n",
    "        'Actual Score': y_home_test_np,\n",
    "        'Predicted Score': home_outputs\n",
    "    })\n",
    "\n",
    "    df_away = pd.DataFrame({\n",
    "        'Team': away_teams,\n",
    "        'Opponent': home_teams,\n",
    "        'Actual Score': y_away_test_np,\n",
    "        'Predicted Score': away_outputs\n",
    "    })\n",
    "\n",
    "    \n",
    "    df_all = pd.concat([df_home, df_away])\n",
    "\n",
    "    \n",
    "    fig = px.scatter(df_all, x='Actual Score', y='Predicted Score', color='Team',\n",
    "                     title='Teams Performance: Predicted vs Actual Scores',\n",
    "                     labels={'Actual Score': 'Actual Score', 'Predicted Score': 'Predicted Score'},\n",
    "                     hover_data=['Team', 'Opponent'])\n",
    "\n",
    "    fig.update_traces(marker=dict(size=8, opacity=0.7), selector=dict(mode='markers'))\n",
    "    fig.show()\n"
   ]
  },
  {
   "cell_type": "code",
   "execution_count": 105,
   "metadata": {},
   "outputs": [],
   "source": [
    "extracted_data = []\n",
    "for match in f:\n",
    "    if not match[\"status\"][\"finished\"]:\n",
    "        extracted_data.append(\n",
    "            {\n",
    "                \"home_team\": match[\"home\"][\"name\"],\n",
    "                \"away_team\": match[\"away\"][\"name\"],\n",
    "            }\n",
    "        )\n",
    "\n",
    "\n",
    "new_data = pd.DataFrame(extracted_data)"
   ]
  },
  {
   "cell_type": "code",
   "execution_count": 113,
   "metadata": {},
   "outputs": [
    {
     "data": {
      "text/plain": [
       "(tensor([[12., 10.],\n",
       "         [ 5., 18.],\n",
       "         [11.,  7.],\n",
       "         [14.,  6.],\n",
       "         [15.,  4.],\n",
       "         [16.,  2.],\n",
       "         [ 3.,  0.],\n",
       "         [17.,  1.],\n",
       "         [ 8., 13.],\n",
       "         [ 9., 19.],\n",
       "         [ 0., 19.],\n",
       "         [ 3., 11.],\n",
       "         [ 5., 16.],\n",
       "         [15.,  8.],\n",
       "         [14., 13.],\n",
       "         [ 2.,  1.],\n",
       "         [ 6.,  4.],\n",
       "         [10.,  9.],\n",
       "         [18.,  7.],\n",
       "         [12., 17.],\n",
       "         [19.,  5.],\n",
       "         [11.,  0.],\n",
       "         [ 4.,  3.],\n",
       "         [ 7.,  2.],\n",
       "         [ 9., 15.],\n",
       "         [16., 10.],\n",
       "         [ 1., 12.],\n",
       "         [13.,  6.],\n",
       "         [ 8., 14.],\n",
       "         [17., 18.],\n",
       "         [ 7., 10.],\n",
       "         [ 4.,  5.],\n",
       "         [13.,  2.],\n",
       "         [16.,  3.],\n",
       "         [19., 15.],\n",
       "         [ 1.,  0.],\n",
       "         [ 8.,  6.],\n",
       "         [ 9., 18.],\n",
       "         [11., 12.],\n",
       "         [17., 14.],\n",
       "         [15., 17.],\n",
       "         [ 2., 11.],\n",
       "         [ 6., 16.],\n",
       "         [12.,  7.],\n",
       "         [14.,  9.],\n",
       "         [ 5.,  8.],\n",
       "         [ 0.,  4.],\n",
       "         [ 3.,  1.],\n",
       "         [18., 19.],\n",
       "         [10., 13.],\n",
       "         [ 7.,  4.],\n",
       "         [ 1., 16.],\n",
       "         [18., 13.],\n",
       "         [ 9.,  5.],\n",
       "         [11., 14.],\n",
       "         [15.,  2.],\n",
       "         [17.,  8.],\n",
       "         [10.,  0.],\n",
       "         [19.,  6.],\n",
       "         [14., 15.],\n",
       "         [ 2.,  9.],\n",
       "         [16., 11.],\n",
       "         [ 5., 10.],\n",
       "         [13.,  1.],\n",
       "         [ 3., 19.],\n",
       "         [ 6.,  7.],\n",
       "         [ 8., 12.],\n",
       "         [ 4., 17.],\n",
       "         [ 0., 18.],\n",
       "         [11.,  6.],\n",
       "         [ 1.,  5.],\n",
       "         [ 7.,  3.],\n",
       "         [12., 16.],\n",
       "         [19.,  8.],\n",
       "         [15., 13.],\n",
       "         [ 9.,  0.],\n",
       "         [17.,  2.],\n",
       "         [10., 14.],\n",
       "         [18.,  4.],\n",
       "         [ 6.,  9.],\n",
       "         [14., 12.],\n",
       "         [ 8.,  1.],\n",
       "         [13., 17.],\n",
       "         [ 5., 11.],\n",
       "         [ 0.,  7.],\n",
       "         [ 3., 15.],\n",
       "         [16., 18.],\n",
       "         [ 2., 10.],\n",
       "         [ 4., 19.],\n",
       "         [ 1., 14.],\n",
       "         [ 9.,  8.],\n",
       "         [11.,  4.],\n",
       "         [15.,  0.],\n",
       "         [17.,  3.],\n",
       "         [18.,  2.],\n",
       "         [19., 13.],\n",
       "         [ 7., 16.],\n",
       "         [10.,  6.],\n",
       "         [12.,  5.],\n",
       "         [ 2., 15.],\n",
       "         [ 0., 10.],\n",
       "         [ 3., 12.],\n",
       "         [ 4.,  7.],\n",
       "         [ 5.,  9.],\n",
       "         [ 6., 19.],\n",
       "         [ 8., 17.],\n",
       "         [13., 18.],\n",
       "         [14., 11.],\n",
       "         [16.,  1.],\n",
       "         [ 1., 13.],\n",
       "         [ 7.,  6.],\n",
       "         [ 9.,  2.],\n",
       "         [10.,  5.],\n",
       "         [11., 16.],\n",
       "         [12.,  8.],\n",
       "         [15., 14.],\n",
       "         [17.,  4.],\n",
       "         [18.,  0.],\n",
       "         [19.,  3.],\n",
       "         [ 3., 10.],\n",
       "         [ 5.,  0.],\n",
       "         [ 8.,  7.],\n",
       "         [ 9.,  1.],\n",
       "         [11., 13.],\n",
       "         [12.,  6.],\n",
       "         [14.,  2.],\n",
       "         [15., 18.],\n",
       "         [16.,  4.],\n",
       "         [17., 19.],\n",
       "         [ 2., 12.],\n",
       "         [ 0., 14.],\n",
       "         [ 1., 15.],\n",
       "         [ 4.,  8.],\n",
       "         [ 6., 17.],\n",
       "         [ 7.,  5.],\n",
       "         [10., 11.],\n",
       "         [13.,  9.],\n",
       "         [18.,  3.],\n",
       "         [19., 16.],\n",
       "         [ 3.,  6.],\n",
       "         [ 5.,  2.],\n",
       "         [ 8., 18.],\n",
       "         [ 9.,  4.],\n",
       "         [11.,  1.],\n",
       "         [12., 13.],\n",
       "         [14., 19.],\n",
       "         [15., 10.],\n",
       "         [16.,  0.],\n",
       "         [17.,  7.],\n",
       "         [ 2., 16.],\n",
       "         [ 0.,  3.],\n",
       "         [ 1., 17.],\n",
       "         [ 4., 15.],\n",
       "         [ 6., 14.],\n",
       "         [ 7., 11.],\n",
       "         [10., 12.],\n",
       "         [13.,  8.],\n",
       "         [18.,  5.],\n",
       "         [19.,  9.],\n",
       "         [ 0.,  6.],\n",
       "         [ 4., 12.],\n",
       "         [ 5.,  3.],\n",
       "         [ 7., 14.],\n",
       "         [ 8., 10.],\n",
       "         [ 9., 17.],\n",
       "         [11., 15.],\n",
       "         [13., 16.],\n",
       "         [18.,  1.],\n",
       "         [19.,  2.],\n",
       "         [ 2.,  8.],\n",
       "         [ 1., 19.],\n",
       "         [ 3., 13.],\n",
       "         [ 6.,  5.],\n",
       "         [10.,  4.],\n",
       "         [12.,  0.],\n",
       "         [14., 18.],\n",
       "         [15.,  7.],\n",
       "         [16.,  9.],\n",
       "         [17., 11.],\n",
       "         [ 2.,  7.],\n",
       "         [ 0., 11.],\n",
       "         [ 3.,  4.],\n",
       "         [ 5., 19.],\n",
       "         [15.,  9.],\n",
       "         [18., 17.],\n",
       "         [ 6., 13.],\n",
       "         [14.,  8.],\n",
       "         [10., 16.],\n",
       "         [12.,  1.],\n",
       "         [ 1.,  3.],\n",
       "         [ 4.,  0.],\n",
       "         [ 7., 12.],\n",
       "         [ 8.,  5.],\n",
       "         [ 9., 14.],\n",
       "         [11.,  2.],\n",
       "         [13., 10.],\n",
       "         [16.,  6.],\n",
       "         [17., 15.],\n",
       "         [19., 18.],\n",
       "         [ 2., 13.],\n",
       "         [ 0.,  1.],\n",
       "         [ 3., 16.],\n",
       "         [ 5.,  4.],\n",
       "         [ 6.,  8.],\n",
       "         [10.,  7.],\n",
       "         [12., 11.],\n",
       "         [14., 17.],\n",
       "         [15., 19.],\n",
       "         [18.,  9.],\n",
       "         [ 1.,  2.],\n",
       "         [ 4.,  6.],\n",
       "         [ 7., 18.],\n",
       "         [ 8., 15.],\n",
       "         [ 9., 10.],\n",
       "         [11.,  3.],\n",
       "         [13., 14.],\n",
       "         [16.,  5.],\n",
       "         [17., 12.],\n",
       "         [19.,  0.],\n",
       "         [ 2.,  4.],\n",
       "         [ 1.,  6.],\n",
       "         [ 8.,  3.],\n",
       "         [ 9.,  7.],\n",
       "         [13.,  5.],\n",
       "         [14., 16.],\n",
       "         [15., 12.],\n",
       "         [17.,  0.],\n",
       "         [18., 10.],\n",
       "         [19., 11.],\n",
       "         [ 0.,  2.],\n",
       "         [ 3.,  9.],\n",
       "         [ 4.,  1.],\n",
       "         [ 5., 14.],\n",
       "         [ 6., 18.],\n",
       "         [ 7., 13.],\n",
       "         [10., 17.],\n",
       "         [11.,  8.],\n",
       "         [12., 19.],\n",
       "         [16., 15.],\n",
       "         [ 2.,  3.],\n",
       "         [ 1., 10.],\n",
       "         [ 8., 16.],\n",
       "         [ 9., 12.],\n",
       "         [13.,  0.],\n",
       "         [14.,  4.],\n",
       "         [15.,  6.],\n",
       "         [17.,  5.],\n",
       "         [18., 11.],\n",
       "         [19.,  7.],\n",
       "         [ 0.,  8.],\n",
       "         [ 3., 14.],\n",
       "         [ 4., 13.],\n",
       "         [ 5., 15.],\n",
       "         [ 6.,  2.],\n",
       "         [ 7.,  1.],\n",
       "         [10., 19.],\n",
       "         [11.,  9.],\n",
       "         [12., 18.],\n",
       "         [16., 17.]]),\n",
       " tensor([12.,  5., 11., 14., 15., 16.,  3., 17.,  8.,  9.,  0.,  3.,  5., 15.,\n",
       "         14.,  2.,  6., 10., 18., 12., 19., 11.,  4.,  7.,  9., 16.,  1., 13.,\n",
       "          8., 17.,  7.,  4., 13., 16., 19.,  1.,  8.,  9., 11., 17., 15.,  2.,\n",
       "          6., 12., 14.,  5.,  0.,  3., 18., 10.,  7.,  1., 18.,  9., 11., 15.,\n",
       "         17., 10., 19., 14.,  2., 16.,  5., 13.,  3.,  6.,  8.,  4.,  0., 11.,\n",
       "          1.,  7., 12., 19., 15.,  9., 17., 10., 18.,  6., 14.,  8., 13.,  5.,\n",
       "          0.,  3., 16.,  2.,  4.,  1.,  9., 11., 15., 17., 18., 19.,  7., 10.,\n",
       "         12.,  2.,  0.,  3.,  4.,  5.,  6.,  8., 13., 14., 16.,  1.,  7.,  9.,\n",
       "         10., 11., 12., 15., 17., 18., 19.,  3.,  5.,  8.,  9., 11., 12., 14.,\n",
       "         15., 16., 17.,  2.,  0.,  1.,  4.,  6.,  7., 10., 13., 18., 19.,  3.,\n",
       "          5.,  8.,  9., 11., 12., 14., 15., 16., 17.,  2.,  0.,  1.,  4.,  6.,\n",
       "          7., 10., 13., 18., 19.,  0.,  4.,  5.,  7.,  8.,  9., 11., 13., 18.,\n",
       "         19.,  2.,  1.,  3.,  6., 10., 12., 14., 15., 16., 17.,  2.,  0.,  3.,\n",
       "          5., 15., 18.,  6., 14., 10., 12.,  1.,  4.,  7.,  8.,  9., 11., 13.,\n",
       "         16., 17., 19.,  2.,  0.,  3.,  5.,  6., 10., 12., 14., 15., 18.,  1.,\n",
       "          4.,  7.,  8.,  9., 11., 13., 16., 17., 19.,  2.,  1.,  8.,  9., 13.,\n",
       "         14., 15., 17., 18., 19.,  0.,  3.,  4.,  5.,  6.,  7., 10., 11., 12.,\n",
       "         16.,  2.,  1.,  8.,  9., 13., 14., 15., 17., 18., 19.,  0.,  3.,  4.,\n",
       "          5.,  6.,  7., 10., 11., 12., 16.]),\n",
       " tensor([10., 18.,  7.,  6.,  4.,  2.,  0.,  1., 13., 19., 19., 11., 16.,  8.,\n",
       "         13.,  1.,  4.,  9.,  7., 17.,  5.,  0.,  3.,  2., 15., 10., 12.,  6.,\n",
       "         14., 18., 10.,  5.,  2.,  3., 15.,  0.,  6., 18., 12., 14., 17., 11.,\n",
       "         16.,  7.,  9.,  8.,  4.,  1., 19., 13.,  4., 16., 13.,  5., 14.,  2.,\n",
       "          8.,  0.,  6., 15.,  9., 11., 10.,  1., 19.,  7., 12., 17., 18.,  6.,\n",
       "          5.,  3., 16.,  8., 13.,  0.,  2., 14.,  4.,  9., 12.,  1., 17., 11.,\n",
       "          7., 15., 18., 10., 19., 14.,  8.,  4.,  0.,  3.,  2., 13., 16.,  6.,\n",
       "          5., 15., 10., 12.,  7.,  9., 19., 17., 18., 11.,  1., 13.,  6.,  2.,\n",
       "          5., 16.,  8., 14.,  4.,  0.,  3., 10.,  0.,  7.,  1., 13.,  6.,  2.,\n",
       "         18.,  4., 19., 12., 14., 15.,  8., 17.,  5., 11.,  9.,  3., 16.,  6.,\n",
       "          2., 18.,  4.,  1., 13., 19., 10.,  0.,  7., 16.,  3., 17., 15., 14.,\n",
       "         11., 12.,  8.,  5.,  9.,  6., 12.,  3., 14., 10., 17., 15., 16.,  1.,\n",
       "          2.,  8., 19., 13.,  5.,  4.,  0., 18.,  7.,  9., 11.,  7., 11.,  4.,\n",
       "         19.,  9., 17., 13.,  8., 16.,  1.,  3.,  0., 12.,  5., 14.,  2., 10.,\n",
       "          6., 15., 18., 13.,  1., 16.,  4.,  8.,  7., 11., 17., 19.,  9.,  2.,\n",
       "          6., 18., 15., 10.,  3., 14.,  5., 12.,  0.,  4.,  6.,  3.,  7.,  5.,\n",
       "         16., 12.,  0., 10., 11.,  2.,  9.,  1., 14., 18., 13., 17.,  8., 19.,\n",
       "         15.,  3., 10., 16., 12.,  0.,  4.,  6.,  5., 11.,  7.,  8., 14., 13.,\n",
       "         15.,  2.,  1., 19.,  9., 18., 17.]))"
      ]
     },
     "execution_count": 113,
     "metadata": {},
     "output_type": "execute_result"
    }
   ],
   "source": [
    "selected_features = [\"home_team\", \"away_team\"]\n",
    "\n",
    "\n",
    "label_encoder = LabelEncoder()\n",
    "new_data[\"home_team\"] = label_encoder.fit_transform(new_data[\"home_team\"])\n",
    "new_data[\"away_team\"] = label_encoder.transform(new_data[\"away_team\"])\n",
    "\n",
    "\n",
    "X_new = new_data[selected_features]\n",
    "\n",
    "\n",
    "X_new_tensor = torch.tensor(X_new.values, dtype=torch.float32)\n",
    "X_new_tensor, X_new_tensor[:, -2], X_new_tensor[:, -1]"
   ]
  },
  {
   "cell_type": "code",
   "execution_count": 118,
   "metadata": {},
   "outputs": [
    {
     "data": {
      "application/vnd.plotly.v1+json": {
       "config": {
        "plotlyServerURL": "https://plot.ly"
       },
       "data": [
        {
         "customdata": [
          [
           10
          ],
          [
           18
          ],
          [
           7
          ],
          [
           6
          ],
          [
           4
          ],
          [
           2
          ],
          [
           0
          ],
          [
           1
          ],
          [
           13
          ],
          [
           19
          ],
          [
           19
          ],
          [
           11
          ],
          [
           16
          ],
          [
           8
          ],
          [
           13
          ],
          [
           1
          ],
          [
           4
          ],
          [
           9
          ],
          [
           7
          ],
          [
           17
          ],
          [
           5
          ],
          [
           0
          ],
          [
           3
          ],
          [
           2
          ],
          [
           15
          ],
          [
           10
          ],
          [
           12
          ],
          [
           6
          ],
          [
           14
          ],
          [
           18
          ],
          [
           10
          ],
          [
           5
          ],
          [
           2
          ],
          [
           3
          ],
          [
           15
          ],
          [
           0
          ],
          [
           6
          ],
          [
           18
          ],
          [
           12
          ],
          [
           14
          ],
          [
           17
          ],
          [
           11
          ],
          [
           16
          ],
          [
           7
          ],
          [
           9
          ],
          [
           8
          ],
          [
           4
          ],
          [
           1
          ],
          [
           19
          ],
          [
           13
          ],
          [
           4
          ],
          [
           16
          ],
          [
           13
          ],
          [
           5
          ],
          [
           14
          ],
          [
           2
          ],
          [
           8
          ],
          [
           0
          ],
          [
           6
          ],
          [
           15
          ],
          [
           9
          ],
          [
           11
          ],
          [
           10
          ],
          [
           1
          ],
          [
           19
          ],
          [
           7
          ],
          [
           12
          ],
          [
           17
          ],
          [
           18
          ],
          [
           6
          ],
          [
           5
          ],
          [
           3
          ],
          [
           16
          ],
          [
           8
          ],
          [
           13
          ],
          [
           0
          ],
          [
           2
          ],
          [
           14
          ],
          [
           4
          ],
          [
           9
          ],
          [
           12
          ],
          [
           1
          ],
          [
           17
          ],
          [
           11
          ],
          [
           7
          ],
          [
           15
          ],
          [
           18
          ],
          [
           10
          ],
          [
           19
          ],
          [
           14
          ],
          [
           8
          ],
          [
           4
          ],
          [
           0
          ],
          [
           3
          ],
          [
           2
          ],
          [
           13
          ],
          [
           16
          ],
          [
           6
          ],
          [
           5
          ],
          [
           15
          ],
          [
           10
          ],
          [
           12
          ],
          [
           7
          ],
          [
           9
          ],
          [
           19
          ],
          [
           17
          ],
          [
           18
          ],
          [
           11
          ],
          [
           1
          ],
          [
           13
          ],
          [
           6
          ],
          [
           2
          ],
          [
           5
          ],
          [
           16
          ],
          [
           8
          ],
          [
           14
          ],
          [
           4
          ],
          [
           0
          ],
          [
           3
          ],
          [
           10
          ],
          [
           0
          ],
          [
           7
          ],
          [
           1
          ],
          [
           13
          ],
          [
           6
          ],
          [
           2
          ],
          [
           18
          ],
          [
           4
          ],
          [
           19
          ],
          [
           12
          ],
          [
           14
          ],
          [
           15
          ],
          [
           8
          ],
          [
           17
          ],
          [
           5
          ],
          [
           11
          ],
          [
           9
          ],
          [
           3
          ],
          [
           16
          ],
          [
           6
          ],
          [
           2
          ],
          [
           18
          ],
          [
           4
          ],
          [
           1
          ],
          [
           13
          ],
          [
           19
          ],
          [
           10
          ],
          [
           0
          ],
          [
           7
          ],
          [
           16
          ],
          [
           3
          ],
          [
           17
          ],
          [
           15
          ],
          [
           14
          ],
          [
           11
          ],
          [
           12
          ],
          [
           8
          ],
          [
           5
          ],
          [
           9
          ],
          [
           6
          ],
          [
           12
          ],
          [
           3
          ],
          [
           14
          ],
          [
           10
          ],
          [
           17
          ],
          [
           15
          ],
          [
           16
          ],
          [
           1
          ],
          [
           2
          ],
          [
           8
          ],
          [
           19
          ],
          [
           13
          ],
          [
           5
          ],
          [
           4
          ],
          [
           0
          ],
          [
           18
          ],
          [
           7
          ],
          [
           9
          ],
          [
           11
          ],
          [
           7
          ],
          [
           11
          ],
          [
           4
          ],
          [
           19
          ],
          [
           9
          ],
          [
           17
          ],
          [
           13
          ],
          [
           8
          ],
          [
           16
          ],
          [
           1
          ],
          [
           3
          ],
          [
           0
          ],
          [
           12
          ],
          [
           5
          ],
          [
           14
          ],
          [
           2
          ],
          [
           10
          ],
          [
           6
          ],
          [
           15
          ],
          [
           18
          ],
          [
           13
          ],
          [
           1
          ],
          [
           16
          ],
          [
           4
          ],
          [
           8
          ],
          [
           7
          ],
          [
           11
          ],
          [
           17
          ],
          [
           19
          ],
          [
           9
          ],
          [
           2
          ],
          [
           6
          ],
          [
           18
          ],
          [
           15
          ],
          [
           10
          ],
          [
           3
          ],
          [
           14
          ],
          [
           5
          ],
          [
           12
          ],
          [
           0
          ],
          [
           4
          ],
          [
           6
          ],
          [
           3
          ],
          [
           7
          ],
          [
           5
          ],
          [
           16
          ],
          [
           12
          ],
          [
           0
          ],
          [
           10
          ],
          [
           11
          ],
          [
           2
          ],
          [
           9
          ],
          [
           1
          ],
          [
           14
          ],
          [
           18
          ],
          [
           13
          ],
          [
           17
          ],
          [
           8
          ],
          [
           19
          ],
          [
           15
          ],
          [
           3
          ],
          [
           10
          ],
          [
           16
          ],
          [
           12
          ],
          [
           0
          ],
          [
           4
          ],
          [
           6
          ],
          [
           5
          ],
          [
           11
          ],
          [
           7
          ],
          [
           8
          ],
          [
           14
          ],
          [
           13
          ],
          [
           15
          ],
          [
           2
          ],
          [
           1
          ],
          [
           19
          ],
          [
           9
          ],
          [
           18
          ],
          [
           17
          ],
          [
           12
          ],
          [
           5
          ],
          [
           11
          ],
          [
           14
          ],
          [
           15
          ],
          [
           16
          ],
          [
           3
          ],
          [
           17
          ],
          [
           8
          ],
          [
           9
          ],
          [
           0
          ],
          [
           3
          ],
          [
           5
          ],
          [
           15
          ],
          [
           14
          ],
          [
           2
          ],
          [
           6
          ],
          [
           10
          ],
          [
           18
          ],
          [
           12
          ],
          [
           19
          ],
          [
           11
          ],
          [
           4
          ],
          [
           7
          ],
          [
           9
          ],
          [
           16
          ],
          [
           1
          ],
          [
           13
          ],
          [
           8
          ],
          [
           17
          ],
          [
           7
          ],
          [
           4
          ],
          [
           13
          ],
          [
           16
          ],
          [
           19
          ],
          [
           1
          ],
          [
           8
          ],
          [
           9
          ],
          [
           11
          ],
          [
           17
          ],
          [
           15
          ],
          [
           2
          ],
          [
           6
          ],
          [
           12
          ],
          [
           14
          ],
          [
           5
          ],
          [
           0
          ],
          [
           3
          ],
          [
           18
          ],
          [
           10
          ],
          [
           7
          ],
          [
           1
          ],
          [
           18
          ],
          [
           9
          ],
          [
           11
          ],
          [
           15
          ],
          [
           17
          ],
          [
           10
          ],
          [
           19
          ],
          [
           14
          ],
          [
           2
          ],
          [
           16
          ],
          [
           5
          ],
          [
           13
          ],
          [
           3
          ],
          [
           6
          ],
          [
           8
          ],
          [
           4
          ],
          [
           0
          ],
          [
           11
          ],
          [
           1
          ],
          [
           7
          ],
          [
           12
          ],
          [
           19
          ],
          [
           15
          ],
          [
           9
          ],
          [
           17
          ],
          [
           10
          ],
          [
           18
          ],
          [
           6
          ],
          [
           14
          ],
          [
           8
          ],
          [
           13
          ],
          [
           5
          ],
          [
           0
          ],
          [
           3
          ],
          [
           16
          ],
          [
           2
          ],
          [
           4
          ],
          [
           1
          ],
          [
           9
          ],
          [
           11
          ],
          [
           15
          ],
          [
           17
          ],
          [
           18
          ],
          [
           19
          ],
          [
           7
          ],
          [
           10
          ],
          [
           12
          ],
          [
           2
          ],
          [
           0
          ],
          [
           3
          ],
          [
           4
          ],
          [
           5
          ],
          [
           6
          ],
          [
           8
          ],
          [
           13
          ],
          [
           14
          ],
          [
           16
          ],
          [
           1
          ],
          [
           7
          ],
          [
           9
          ],
          [
           10
          ],
          [
           11
          ],
          [
           12
          ],
          [
           15
          ],
          [
           17
          ],
          [
           18
          ],
          [
           19
          ],
          [
           3
          ],
          [
           5
          ],
          [
           8
          ],
          [
           9
          ],
          [
           11
          ],
          [
           12
          ],
          [
           14
          ],
          [
           15
          ],
          [
           16
          ],
          [
           17
          ],
          [
           2
          ],
          [
           0
          ],
          [
           1
          ],
          [
           4
          ],
          [
           6
          ],
          [
           7
          ],
          [
           10
          ],
          [
           13
          ],
          [
           18
          ],
          [
           19
          ],
          [
           3
          ],
          [
           5
          ],
          [
           8
          ],
          [
           9
          ],
          [
           11
          ],
          [
           12
          ],
          [
           14
          ],
          [
           15
          ],
          [
           16
          ],
          [
           17
          ],
          [
           2
          ],
          [
           0
          ],
          [
           1
          ],
          [
           4
          ],
          [
           6
          ],
          [
           7
          ],
          [
           10
          ],
          [
           13
          ],
          [
           18
          ],
          [
           19
          ],
          [
           0
          ],
          [
           4
          ],
          [
           5
          ],
          [
           7
          ],
          [
           8
          ],
          [
           9
          ],
          [
           11
          ],
          [
           13
          ],
          [
           18
          ],
          [
           19
          ],
          [
           2
          ],
          [
           1
          ],
          [
           3
          ],
          [
           6
          ],
          [
           10
          ],
          [
           12
          ],
          [
           14
          ],
          [
           15
          ],
          [
           16
          ],
          [
           17
          ],
          [
           2
          ],
          [
           0
          ],
          [
           3
          ],
          [
           5
          ],
          [
           15
          ],
          [
           18
          ],
          [
           6
          ],
          [
           14
          ],
          [
           10
          ],
          [
           12
          ],
          [
           1
          ],
          [
           4
          ],
          [
           7
          ],
          [
           8
          ],
          [
           9
          ],
          [
           11
          ],
          [
           13
          ],
          [
           16
          ],
          [
           17
          ],
          [
           19
          ],
          [
           2
          ],
          [
           0
          ],
          [
           3
          ],
          [
           5
          ],
          [
           6
          ],
          [
           10
          ],
          [
           12
          ],
          [
           14
          ],
          [
           15
          ],
          [
           18
          ],
          [
           1
          ],
          [
           4
          ],
          [
           7
          ],
          [
           8
          ],
          [
           9
          ],
          [
           11
          ],
          [
           13
          ],
          [
           16
          ],
          [
           17
          ],
          [
           19
          ],
          [
           2
          ],
          [
           1
          ],
          [
           8
          ],
          [
           9
          ],
          [
           13
          ],
          [
           14
          ],
          [
           15
          ],
          [
           17
          ],
          [
           18
          ],
          [
           19
          ],
          [
           0
          ],
          [
           3
          ],
          [
           4
          ],
          [
           5
          ],
          [
           6
          ],
          [
           7
          ],
          [
           10
          ],
          [
           11
          ],
          [
           12
          ],
          [
           16
          ],
          [
           2
          ],
          [
           1
          ],
          [
           8
          ],
          [
           9
          ],
          [
           13
          ],
          [
           14
          ],
          [
           15
          ],
          [
           17
          ],
          [
           18
          ],
          [
           19
          ],
          [
           0
          ],
          [
           3
          ],
          [
           4
          ],
          [
           5
          ],
          [
           6
          ],
          [
           7
          ],
          [
           10
          ],
          [
           11
          ],
          [
           12
          ],
          [
           16
          ]
         ],
         "hovertemplate": "Team=%{marker.color}<br>Predicted Score=%{y}<br>Opponent=%{customdata[0]}<extra></extra>",
         "legendgroup": "",
         "marker": {
          "color": [
           12,
           5,
           11,
           14,
           15,
           16,
           3,
           17,
           8,
           9,
           0,
           3,
           5,
           15,
           14,
           2,
           6,
           10,
           18,
           12,
           19,
           11,
           4,
           7,
           9,
           16,
           1,
           13,
           8,
           17,
           7,
           4,
           13,
           16,
           19,
           1,
           8,
           9,
           11,
           17,
           15,
           2,
           6,
           12,
           14,
           5,
           0,
           3,
           18,
           10,
           7,
           1,
           18,
           9,
           11,
           15,
           17,
           10,
           19,
           14,
           2,
           16,
           5,
           13,
           3,
           6,
           8,
           4,
           0,
           11,
           1,
           7,
           12,
           19,
           15,
           9,
           17,
           10,
           18,
           6,
           14,
           8,
           13,
           5,
           0,
           3,
           16,
           2,
           4,
           1,
           9,
           11,
           15,
           17,
           18,
           19,
           7,
           10,
           12,
           2,
           0,
           3,
           4,
           5,
           6,
           8,
           13,
           14,
           16,
           1,
           7,
           9,
           10,
           11,
           12,
           15,
           17,
           18,
           19,
           3,
           5,
           8,
           9,
           11,
           12,
           14,
           15,
           16,
           17,
           2,
           0,
           1,
           4,
           6,
           7,
           10,
           13,
           18,
           19,
           3,
           5,
           8,
           9,
           11,
           12,
           14,
           15,
           16,
           17,
           2,
           0,
           1,
           4,
           6,
           7,
           10,
           13,
           18,
           19,
           0,
           4,
           5,
           7,
           8,
           9,
           11,
           13,
           18,
           19,
           2,
           1,
           3,
           6,
           10,
           12,
           14,
           15,
           16,
           17,
           2,
           0,
           3,
           5,
           15,
           18,
           6,
           14,
           10,
           12,
           1,
           4,
           7,
           8,
           9,
           11,
           13,
           16,
           17,
           19,
           2,
           0,
           3,
           5,
           6,
           10,
           12,
           14,
           15,
           18,
           1,
           4,
           7,
           8,
           9,
           11,
           13,
           16,
           17,
           19,
           2,
           1,
           8,
           9,
           13,
           14,
           15,
           17,
           18,
           19,
           0,
           3,
           4,
           5,
           6,
           7,
           10,
           11,
           12,
           16,
           2,
           1,
           8,
           9,
           13,
           14,
           15,
           17,
           18,
           19,
           0,
           3,
           4,
           5,
           6,
           7,
           10,
           11,
           12,
           16,
           10,
           18,
           7,
           6,
           4,
           2,
           0,
           1,
           13,
           19,
           19,
           11,
           16,
           8,
           13,
           1,
           4,
           9,
           7,
           17,
           5,
           0,
           3,
           2,
           15,
           10,
           12,
           6,
           14,
           18,
           10,
           5,
           2,
           3,
           15,
           0,
           6,
           18,
           12,
           14,
           17,
           11,
           16,
           7,
           9,
           8,
           4,
           1,
           19,
           13,
           4,
           16,
           13,
           5,
           14,
           2,
           8,
           0,
           6,
           15,
           9,
           11,
           10,
           1,
           19,
           7,
           12,
           17,
           18,
           6,
           5,
           3,
           16,
           8,
           13,
           0,
           2,
           14,
           4,
           9,
           12,
           1,
           17,
           11,
           7,
           15,
           18,
           10,
           19,
           14,
           8,
           4,
           0,
           3,
           2,
           13,
           16,
           6,
           5,
           15,
           10,
           12,
           7,
           9,
           19,
           17,
           18,
           11,
           1,
           13,
           6,
           2,
           5,
           16,
           8,
           14,
           4,
           0,
           3,
           10,
           0,
           7,
           1,
           13,
           6,
           2,
           18,
           4,
           19,
           12,
           14,
           15,
           8,
           17,
           5,
           11,
           9,
           3,
           16,
           6,
           2,
           18,
           4,
           1,
           13,
           19,
           10,
           0,
           7,
           16,
           3,
           17,
           15,
           14,
           11,
           12,
           8,
           5,
           9,
           6,
           12,
           3,
           14,
           10,
           17,
           15,
           16,
           1,
           2,
           8,
           19,
           13,
           5,
           4,
           0,
           18,
           7,
           9,
           11,
           7,
           11,
           4,
           19,
           9,
           17,
           13,
           8,
           16,
           1,
           3,
           0,
           12,
           5,
           14,
           2,
           10,
           6,
           15,
           18,
           13,
           1,
           16,
           4,
           8,
           7,
           11,
           17,
           19,
           9,
           2,
           6,
           18,
           15,
           10,
           3,
           14,
           5,
           12,
           0,
           4,
           6,
           3,
           7,
           5,
           16,
           12,
           0,
           10,
           11,
           2,
           9,
           1,
           14,
           18,
           13,
           17,
           8,
           19,
           15,
           3,
           10,
           16,
           12,
           0,
           4,
           6,
           5,
           11,
           7,
           8,
           14,
           13,
           15,
           2,
           1,
           19,
           9,
           18,
           17
          ],
          "coloraxis": "coloraxis",
          "opacity": 0.7,
          "size": 8,
          "symbol": "circle"
         },
         "mode": "markers",
         "name": "",
         "orientation": "v",
         "showlegend": false,
         "type": "scatter",
         "x": [
          12,
          5,
          11,
          14,
          15,
          16,
          3,
          17,
          8,
          9,
          0,
          3,
          5,
          15,
          14,
          2,
          6,
          10,
          18,
          12,
          19,
          11,
          4,
          7,
          9,
          16,
          1,
          13,
          8,
          17,
          7,
          4,
          13,
          16,
          19,
          1,
          8,
          9,
          11,
          17,
          15,
          2,
          6,
          12,
          14,
          5,
          0,
          3,
          18,
          10,
          7,
          1,
          18,
          9,
          11,
          15,
          17,
          10,
          19,
          14,
          2,
          16,
          5,
          13,
          3,
          6,
          8,
          4,
          0,
          11,
          1,
          7,
          12,
          19,
          15,
          9,
          17,
          10,
          18,
          6,
          14,
          8,
          13,
          5,
          0,
          3,
          16,
          2,
          4,
          1,
          9,
          11,
          15,
          17,
          18,
          19,
          7,
          10,
          12,
          2,
          0,
          3,
          4,
          5,
          6,
          8,
          13,
          14,
          16,
          1,
          7,
          9,
          10,
          11,
          12,
          15,
          17,
          18,
          19,
          3,
          5,
          8,
          9,
          11,
          12,
          14,
          15,
          16,
          17,
          2,
          0,
          1,
          4,
          6,
          7,
          10,
          13,
          18,
          19,
          3,
          5,
          8,
          9,
          11,
          12,
          14,
          15,
          16,
          17,
          2,
          0,
          1,
          4,
          6,
          7,
          10,
          13,
          18,
          19,
          0,
          4,
          5,
          7,
          8,
          9,
          11,
          13,
          18,
          19,
          2,
          1,
          3,
          6,
          10,
          12,
          14,
          15,
          16,
          17,
          2,
          0,
          3,
          5,
          15,
          18,
          6,
          14,
          10,
          12,
          1,
          4,
          7,
          8,
          9,
          11,
          13,
          16,
          17,
          19,
          2,
          0,
          3,
          5,
          6,
          10,
          12,
          14,
          15,
          18,
          1,
          4,
          7,
          8,
          9,
          11,
          13,
          16,
          17,
          19,
          2,
          1,
          8,
          9,
          13,
          14,
          15,
          17,
          18,
          19,
          0,
          3,
          4,
          5,
          6,
          7,
          10,
          11,
          12,
          16,
          2,
          1,
          8,
          9,
          13,
          14,
          15,
          17,
          18,
          19,
          0,
          3,
          4,
          5,
          6,
          7,
          10,
          11,
          12,
          16,
          10,
          18,
          7,
          6,
          4,
          2,
          0,
          1,
          13,
          19,
          19,
          11,
          16,
          8,
          13,
          1,
          4,
          9,
          7,
          17,
          5,
          0,
          3,
          2,
          15,
          10,
          12,
          6,
          14,
          18,
          10,
          5,
          2,
          3,
          15,
          0,
          6,
          18,
          12,
          14,
          17,
          11,
          16,
          7,
          9,
          8,
          4,
          1,
          19,
          13,
          4,
          16,
          13,
          5,
          14,
          2,
          8,
          0,
          6,
          15,
          9,
          11,
          10,
          1,
          19,
          7,
          12,
          17,
          18,
          6,
          5,
          3,
          16,
          8,
          13,
          0,
          2,
          14,
          4,
          9,
          12,
          1,
          17,
          11,
          7,
          15,
          18,
          10,
          19,
          14,
          8,
          4,
          0,
          3,
          2,
          13,
          16,
          6,
          5,
          15,
          10,
          12,
          7,
          9,
          19,
          17,
          18,
          11,
          1,
          13,
          6,
          2,
          5,
          16,
          8,
          14,
          4,
          0,
          3,
          10,
          0,
          7,
          1,
          13,
          6,
          2,
          18,
          4,
          19,
          12,
          14,
          15,
          8,
          17,
          5,
          11,
          9,
          3,
          16,
          6,
          2,
          18,
          4,
          1,
          13,
          19,
          10,
          0,
          7,
          16,
          3,
          17,
          15,
          14,
          11,
          12,
          8,
          5,
          9,
          6,
          12,
          3,
          14,
          10,
          17,
          15,
          16,
          1,
          2,
          8,
          19,
          13,
          5,
          4,
          0,
          18,
          7,
          9,
          11,
          7,
          11,
          4,
          19,
          9,
          17,
          13,
          8,
          16,
          1,
          3,
          0,
          12,
          5,
          14,
          2,
          10,
          6,
          15,
          18,
          13,
          1,
          16,
          4,
          8,
          7,
          11,
          17,
          19,
          9,
          2,
          6,
          18,
          15,
          10,
          3,
          14,
          5,
          12,
          0,
          4,
          6,
          3,
          7,
          5,
          16,
          12,
          0,
          10,
          11,
          2,
          9,
          1,
          14,
          18,
          13,
          17,
          8,
          19,
          15,
          3,
          10,
          16,
          12,
          0,
          4,
          6,
          5,
          11,
          7,
          8,
          14,
          13,
          15,
          2,
          1,
          19,
          9,
          18,
          17
         ],
         "xaxis": "x",
         "y": [
          1.754588,
          1.6938992,
          0.64438045,
          4.404122,
          0.4529513,
          1.3660274,
          4.2801013,
          1.8349488,
          -0.48675972,
          1.0102227,
          3.5906541,
          2.5055468,
          1.7258239,
          0.98003185,
          1.1469935,
          2.196534,
          2.7639303,
          3.689182,
          1.4328133,
          4.550204,
          1.2722458,
          0.20608799,
          2.3503063,
          0.70042455,
          0.43024093,
          1.2401749,
          1.8248821,
          -0.797696,
          -0.008390382,
          3.7669227,
          0.9570087,
          1.4710295,
          3.6618955,
          0.44967413,
          0.2977636,
          3.8354867,
          0.18581353,
          1.6581807,
          2.9072847,
          0.5227155,
          2.4106295,
          1.1232381,
          0.28004444,
          1.9921913,
          4.1743045,
          1.2510074,
          4.0667505,
          4.522012,
          0.858848,
          1.9420238,
          0.9415165,
          4.8455596,
          0.54667187,
          1.5561079,
          1.2837225,
          1.9895791,
          2.494035,
          1.319266,
          3.0384135,
          2.7788563,
          0.33433372,
          1.9808241,
          1.1235019,
          2.9914885,
          2.4583519,
          1.4275044,
          1.6949828,
          3.064875,
          3.608939,
          2.2186816,
          4.8185034,
          -0.42549717,
          1.9378306,
          0.24726675,
          0.47155845,
          -1.4564377,
          2.4908953,
          2.7787921,
          1.429998,
          2.314531,
          3.822212,
          1.9338259,
          1.4340416,
          1.3594779,
          0.74173,
          2.9131258,
          2.5581868,
          0.95352006,
          1.7643771,
          4.1246943,
          1.0518105,
          1.0819687,
          -1.052065,
          1.0107987,
          0.3868841,
          0.3184473,
          0.9838126,
          3.621617,
          3.0432324,
          0.4233722,
          4.48386,
          1.5988811,
          0.8612989,
          0.54055166,
          0.5759721,
          0.76790553,
          3.056452,
          4.5823784,
          1.2922484,
          3.380052,
          1.3377968,
          1.3417246,
          2.9909294,
          0.021296427,
          2.4410098,
          0.99248767,
          1.9349462,
          -1.1887842,
          0.7114847,
          2.0907567,
          1.017999,
          0.4466306,
          0.46836156,
          0.30750203,
          2.3192906,
          3.9831307,
          1.7644737,
          0.81389606,
          2.8885813,
          0.3433327,
          3.478713,
          2.282512,
          1.895541,
          3.2559717,
          1.7460548,
          4.3656554,
          2.2525675,
          0.13768505,
          0.5583579,
          1.6085832,
          3.106703,
          1.2147437,
          0.8376519,
          -0.008897141,
          1.9764718,
          1.289023,
          0.466617,
          -1.2084751,
          1.363998,
          1.585676,
          2.8224266,
          2.6515658,
          0.8813522,
          1.9999696,
          1.9533917,
          4.073857,
          0.44364512,
          1.8207892,
          2.3793616,
          0.97634214,
          1.6187013,
          0.7371514,
          1.0713941,
          -0.13204236,
          1.8728038,
          0.12775679,
          2.3910391,
          0.086872384,
          0.58981013,
          0.47828162,
          4.583495,
          1.7101877,
          2.6956756,
          2.2922533,
          -1.3542186,
          2.7373307,
          0.123064145,
          1.3561971,
          2.8611968,
          -0.41690993,
          2.4359326,
          2.1071298,
          0.9879085,
          1.0936794,
          3.2002447,
          -0.07537912,
          2.3854146,
          1.954156,
          1.1057373,
          2.534791,
          0.6726859,
          1.4959185,
          1.3431541,
          -0.103335455,
          0.27617127,
          -0.24219652,
          -0.15960123,
          2.3301256,
          0.99733305,
          -0.12543906,
          5.4510107,
          3.5573175,
          2.2821925,
          0.55438775,
          2.0823252,
          3.5857136,
          4.756515,
          1.3091983,
          2.791612,
          5.6182523,
          1.8681344,
          1.0397058,
          1.469942,
          0.6987916,
          -0.2424406,
          -0.30282587,
          0.95413685,
          2.4301207,
          -0.38258904,
          1.7100195,
          1.2836124,
          1.2018138,
          -0.17165302,
          1.6447192,
          1.8992342,
          0.46429783,
          -0.7552445,
          0.81775784,
          3.8341067,
          4.705703,
          2.4272285,
          3.3791332,
          1.4345554,
          0.44946897,
          0.42174923,
          4.658668,
          0.4388293,
          2.892086,
          1.5957255,
          0.3918873,
          5.313582,
          1.0490131,
          1.0016905,
          0.14915977,
          1.6495143,
          0.26482892,
          2.8271768,
          3.2044528,
          1.2945491,
          3.096134,
          2.9698355,
          0.712507,
          0.98680997,
          1.9711641,
          0.69935334,
          3.072468,
          1.8438393,
          3.362283,
          2.948104,
          -1.0142267,
          3.323308,
          1.2706004,
          1.1257671,
          3.0417774,
          -0.5644917,
          2.1893444,
          1.4382043,
          1.6780801,
          -0.6908204,
          0.0076039247,
          -0.33375832,
          0.47746482,
          1.4018093,
          -0.45344815,
          1.6666251,
          2.5390198,
          0.86980337,
          0.05082221,
          0.29286268,
          0.8369163,
          1.7343576,
          0.30205408,
          -1.1007339,
          0.6183745,
          2.4701066,
          0.35157505,
          0.30102822,
          1.7968161,
          0.66102666,
          1.4498518,
          -0.25243285,
          -0.35715634,
          0.94291717,
          0.44186416,
          2.8194923,
          1.496068,
          1.7186475,
          3.8687603,
          4.76907,
          2.23329,
          0.7589229,
          0.36008134,
          0.5757056,
          -0.042663176,
          3.3984842,
          1.3284762,
          0.86665547,
          -0.64696676,
          -0.172036,
          1.6410251,
          -1.0084608,
          0.019152086,
          -0.084144846,
          3.2709844,
          0.46412197,
          1.3850312,
          0.91204906,
          1.0120661,
          -0.54205185,
          2.6040409,
          1.3751249,
          1.8879901,
          -0.33745733,
          -0.34458444,
          0.98007077,
          3.5289688,
          2.863546,
          1.7699616,
          2.8293145,
          -0.17485078,
          0.32211155,
          -0.43918273,
          1.3603761,
          1.7963223,
          1.1971843,
          0.48383343,
          0.07454063,
          3.4467492,
          2.38017,
          1.6287465,
          -0.20210846,
          1.4137576,
          2.0766945,
          1.390985,
          0.64031,
          1.9365349,
          1.4533134,
          1.38147,
          0.6111525,
          1.0317012,
          3.7416878,
          1.2506567,
          1.1488116,
          1.6384746,
          0.44511035,
          -0.44597217,
          0.5845244,
          0.13578825,
          0.4834681,
          0.64246255,
          0.6512117,
          -0.44686207,
          2.546084,
          -0.3719525,
          3.400904,
          1.9421704,
          0.72204655,
          0.75866073,
          0.057120007,
          2.7169464,
          -0.5193277,
          0.5769735,
          2.1552565,
          -0.8480262,
          3.6359942,
          2.217923,
          1.0469685,
          0.74574655,
          0.69409066,
          2.6851923,
          -0.06214409,
          -0.21693821,
          1.9095235,
          1.1392922,
          0.7864606,
          2.3195415,
          1.9785969,
          -0.8588185,
          1.599283,
          1.4275709,
          -0.2873833,
          2.196314,
          2.15514,
          -0.22331221,
          -1.2323775,
          0.8480867,
          0.70059264,
          1.6105027,
          1.9830754,
          1.6069355,
          2.895136,
          1.1302936,
          0.9972177,
          -0.7141567,
          0.02666692,
          3.32306,
          0.9329117,
          1.7005546,
          -0.9522354,
          0.7601131,
          2.6716452,
          1.4271924,
          0.40810552,
          1.1163582,
          2.0371969,
          -0.09253676,
          0.45917565,
          0.9089481,
          2.0248358,
          2.5519578,
          1.9999726,
          2.8784678,
          1.5166728,
          2.3602095,
          1.6868098,
          1.1903633,
          1.1237774,
          1.8252182,
          0.49225262,
          -0.21932574,
          0.8671829,
          1.5579528,
          1.9891262,
          1.4800191,
          0.8361909,
          0.39266828,
          -0.1492994,
          0.14146237,
          0.74723023,
          -0.5159895,
          1.4575588,
          1.045584,
          1.2488067,
          1.8787855,
          0.7919162,
          2.4854581,
          -0.1256711,
          -0.14635977,
          1.911406,
          1.4250817,
          1.6734238,
          -0.5633357,
          1.9996336,
          1.5227039,
          0.6500216,
          4.227111,
          0.7488571,
          1.0390193,
          -0.46723244,
          1.3293424,
          0.24809788,
          2.612908,
          0.8279415,
          0.12768249,
          -1.1194274,
          2.098088,
          1.4793522,
          0.956851,
          1.0934374,
          0.6151233,
          1.7342508,
          2.3083022,
          0.797298,
          1.574567,
          0.59364504,
          -0.21873517,
          1.8957882,
          0.98487806,
          1.8982886,
          0.52141374,
          0.91272897,
          0.35553473,
          -0.76362795,
          0.02708022,
          3.9213135,
          1.3950813,
          2.1615803,
          1.8208604,
          2.1777675,
          0.69206685,
          -0.5711768,
          3.3141673,
          1.8679541,
          0.27638498,
          0.57185584,
          2.1762624,
          -2.3165221,
          1.3036323,
          1.1446466,
          0.31535104,
          1.9620022,
          2.1460354,
          1.8104069,
          2.741843,
          1.4377753,
          0.20405523,
          1.6112819,
          0.39445105,
          1.4281204,
          1.6936622,
          1.2418985,
          1.1707542,
          1.714155,
          0.039197978,
          -2.1305058,
          1.8061934,
          -0.21810432,
          2.2426298
         ],
         "yaxis": "y"
        }
       ],
       "layout": {
        "coloraxis": {
         "colorbar": {
          "title": {
           "text": "Team"
          }
         },
         "colorscale": [
          [
           0,
           "#0d0887"
          ],
          [
           0.1111111111111111,
           "#46039f"
          ],
          [
           0.2222222222222222,
           "#7201a8"
          ],
          [
           0.3333333333333333,
           "#9c179e"
          ],
          [
           0.4444444444444444,
           "#bd3786"
          ],
          [
           0.5555555555555556,
           "#d8576b"
          ],
          [
           0.6666666666666666,
           "#ed7953"
          ],
          [
           0.7777777777777778,
           "#fb9f3a"
          ],
          [
           0.8888888888888888,
           "#fdca26"
          ],
          [
           1,
           "#f0f921"
          ]
         ]
        },
        "legend": {
         "tracegroupgap": 0
        },
        "template": {
         "data": {
          "bar": [
           {
            "error_x": {
             "color": "#2a3f5f"
            },
            "error_y": {
             "color": "#2a3f5f"
            },
            "marker": {
             "line": {
              "color": "#E5ECF6",
              "width": 0.5
             },
             "pattern": {
              "fillmode": "overlay",
              "size": 10,
              "solidity": 0.2
             }
            },
            "type": "bar"
           }
          ],
          "barpolar": [
           {
            "marker": {
             "line": {
              "color": "#E5ECF6",
              "width": 0.5
             },
             "pattern": {
              "fillmode": "overlay",
              "size": 10,
              "solidity": 0.2
             }
            },
            "type": "barpolar"
           }
          ],
          "carpet": [
           {
            "aaxis": {
             "endlinecolor": "#2a3f5f",
             "gridcolor": "white",
             "linecolor": "white",
             "minorgridcolor": "white",
             "startlinecolor": "#2a3f5f"
            },
            "baxis": {
             "endlinecolor": "#2a3f5f",
             "gridcolor": "white",
             "linecolor": "white",
             "minorgridcolor": "white",
             "startlinecolor": "#2a3f5f"
            },
            "type": "carpet"
           }
          ],
          "choropleth": [
           {
            "colorbar": {
             "outlinewidth": 0,
             "ticks": ""
            },
            "type": "choropleth"
           }
          ],
          "contour": [
           {
            "colorbar": {
             "outlinewidth": 0,
             "ticks": ""
            },
            "colorscale": [
             [
              0,
              "#0d0887"
             ],
             [
              0.1111111111111111,
              "#46039f"
             ],
             [
              0.2222222222222222,
              "#7201a8"
             ],
             [
              0.3333333333333333,
              "#9c179e"
             ],
             [
              0.4444444444444444,
              "#bd3786"
             ],
             [
              0.5555555555555556,
              "#d8576b"
             ],
             [
              0.6666666666666666,
              "#ed7953"
             ],
             [
              0.7777777777777778,
              "#fb9f3a"
             ],
             [
              0.8888888888888888,
              "#fdca26"
             ],
             [
              1,
              "#f0f921"
             ]
            ],
            "type": "contour"
           }
          ],
          "contourcarpet": [
           {
            "colorbar": {
             "outlinewidth": 0,
             "ticks": ""
            },
            "type": "contourcarpet"
           }
          ],
          "heatmap": [
           {
            "colorbar": {
             "outlinewidth": 0,
             "ticks": ""
            },
            "colorscale": [
             [
              0,
              "#0d0887"
             ],
             [
              0.1111111111111111,
              "#46039f"
             ],
             [
              0.2222222222222222,
              "#7201a8"
             ],
             [
              0.3333333333333333,
              "#9c179e"
             ],
             [
              0.4444444444444444,
              "#bd3786"
             ],
             [
              0.5555555555555556,
              "#d8576b"
             ],
             [
              0.6666666666666666,
              "#ed7953"
             ],
             [
              0.7777777777777778,
              "#fb9f3a"
             ],
             [
              0.8888888888888888,
              "#fdca26"
             ],
             [
              1,
              "#f0f921"
             ]
            ],
            "type": "heatmap"
           }
          ],
          "heatmapgl": [
           {
            "colorbar": {
             "outlinewidth": 0,
             "ticks": ""
            },
            "colorscale": [
             [
              0,
              "#0d0887"
             ],
             [
              0.1111111111111111,
              "#46039f"
             ],
             [
              0.2222222222222222,
              "#7201a8"
             ],
             [
              0.3333333333333333,
              "#9c179e"
             ],
             [
              0.4444444444444444,
              "#bd3786"
             ],
             [
              0.5555555555555556,
              "#d8576b"
             ],
             [
              0.6666666666666666,
              "#ed7953"
             ],
             [
              0.7777777777777778,
              "#fb9f3a"
             ],
             [
              0.8888888888888888,
              "#fdca26"
             ],
             [
              1,
              "#f0f921"
             ]
            ],
            "type": "heatmapgl"
           }
          ],
          "histogram": [
           {
            "marker": {
             "pattern": {
              "fillmode": "overlay",
              "size": 10,
              "solidity": 0.2
             }
            },
            "type": "histogram"
           }
          ],
          "histogram2d": [
           {
            "colorbar": {
             "outlinewidth": 0,
             "ticks": ""
            },
            "colorscale": [
             [
              0,
              "#0d0887"
             ],
             [
              0.1111111111111111,
              "#46039f"
             ],
             [
              0.2222222222222222,
              "#7201a8"
             ],
             [
              0.3333333333333333,
              "#9c179e"
             ],
             [
              0.4444444444444444,
              "#bd3786"
             ],
             [
              0.5555555555555556,
              "#d8576b"
             ],
             [
              0.6666666666666666,
              "#ed7953"
             ],
             [
              0.7777777777777778,
              "#fb9f3a"
             ],
             [
              0.8888888888888888,
              "#fdca26"
             ],
             [
              1,
              "#f0f921"
             ]
            ],
            "type": "histogram2d"
           }
          ],
          "histogram2dcontour": [
           {
            "colorbar": {
             "outlinewidth": 0,
             "ticks": ""
            },
            "colorscale": [
             [
              0,
              "#0d0887"
             ],
             [
              0.1111111111111111,
              "#46039f"
             ],
             [
              0.2222222222222222,
              "#7201a8"
             ],
             [
              0.3333333333333333,
              "#9c179e"
             ],
             [
              0.4444444444444444,
              "#bd3786"
             ],
             [
              0.5555555555555556,
              "#d8576b"
             ],
             [
              0.6666666666666666,
              "#ed7953"
             ],
             [
              0.7777777777777778,
              "#fb9f3a"
             ],
             [
              0.8888888888888888,
              "#fdca26"
             ],
             [
              1,
              "#f0f921"
             ]
            ],
            "type": "histogram2dcontour"
           }
          ],
          "mesh3d": [
           {
            "colorbar": {
             "outlinewidth": 0,
             "ticks": ""
            },
            "type": "mesh3d"
           }
          ],
          "parcoords": [
           {
            "line": {
             "colorbar": {
              "outlinewidth": 0,
              "ticks": ""
             }
            },
            "type": "parcoords"
           }
          ],
          "pie": [
           {
            "automargin": true,
            "type": "pie"
           }
          ],
          "scatter": [
           {
            "fillpattern": {
             "fillmode": "overlay",
             "size": 10,
             "solidity": 0.2
            },
            "type": "scatter"
           }
          ],
          "scatter3d": [
           {
            "line": {
             "colorbar": {
              "outlinewidth": 0,
              "ticks": ""
             }
            },
            "marker": {
             "colorbar": {
              "outlinewidth": 0,
              "ticks": ""
             }
            },
            "type": "scatter3d"
           }
          ],
          "scattercarpet": [
           {
            "marker": {
             "colorbar": {
              "outlinewidth": 0,
              "ticks": ""
             }
            },
            "type": "scattercarpet"
           }
          ],
          "scattergeo": [
           {
            "marker": {
             "colorbar": {
              "outlinewidth": 0,
              "ticks": ""
             }
            },
            "type": "scattergeo"
           }
          ],
          "scattergl": [
           {
            "marker": {
             "colorbar": {
              "outlinewidth": 0,
              "ticks": ""
             }
            },
            "type": "scattergl"
           }
          ],
          "scattermapbox": [
           {
            "marker": {
             "colorbar": {
              "outlinewidth": 0,
              "ticks": ""
             }
            },
            "type": "scattermapbox"
           }
          ],
          "scatterpolar": [
           {
            "marker": {
             "colorbar": {
              "outlinewidth": 0,
              "ticks": ""
             }
            },
            "type": "scatterpolar"
           }
          ],
          "scatterpolargl": [
           {
            "marker": {
             "colorbar": {
              "outlinewidth": 0,
              "ticks": ""
             }
            },
            "type": "scatterpolargl"
           }
          ],
          "scatterternary": [
           {
            "marker": {
             "colorbar": {
              "outlinewidth": 0,
              "ticks": ""
             }
            },
            "type": "scatterternary"
           }
          ],
          "surface": [
           {
            "colorbar": {
             "outlinewidth": 0,
             "ticks": ""
            },
            "colorscale": [
             [
              0,
              "#0d0887"
             ],
             [
              0.1111111111111111,
              "#46039f"
             ],
             [
              0.2222222222222222,
              "#7201a8"
             ],
             [
              0.3333333333333333,
              "#9c179e"
             ],
             [
              0.4444444444444444,
              "#bd3786"
             ],
             [
              0.5555555555555556,
              "#d8576b"
             ],
             [
              0.6666666666666666,
              "#ed7953"
             ],
             [
              0.7777777777777778,
              "#fb9f3a"
             ],
             [
              0.8888888888888888,
              "#fdca26"
             ],
             [
              1,
              "#f0f921"
             ]
            ],
            "type": "surface"
           }
          ],
          "table": [
           {
            "cells": {
             "fill": {
              "color": "#EBF0F8"
             },
             "line": {
              "color": "white"
             }
            },
            "header": {
             "fill": {
              "color": "#C8D4E3"
             },
             "line": {
              "color": "white"
             }
            },
            "type": "table"
           }
          ]
         },
         "layout": {
          "annotationdefaults": {
           "arrowcolor": "#2a3f5f",
           "arrowhead": 0,
           "arrowwidth": 1
          },
          "autotypenumbers": "strict",
          "coloraxis": {
           "colorbar": {
            "outlinewidth": 0,
            "ticks": ""
           }
          },
          "colorscale": {
           "diverging": [
            [
             0,
             "#8e0152"
            ],
            [
             0.1,
             "#c51b7d"
            ],
            [
             0.2,
             "#de77ae"
            ],
            [
             0.3,
             "#f1b6da"
            ],
            [
             0.4,
             "#fde0ef"
            ],
            [
             0.5,
             "#f7f7f7"
            ],
            [
             0.6,
             "#e6f5d0"
            ],
            [
             0.7,
             "#b8e186"
            ],
            [
             0.8,
             "#7fbc41"
            ],
            [
             0.9,
             "#4d9221"
            ],
            [
             1,
             "#276419"
            ]
           ],
           "sequential": [
            [
             0,
             "#0d0887"
            ],
            [
             0.1111111111111111,
             "#46039f"
            ],
            [
             0.2222222222222222,
             "#7201a8"
            ],
            [
             0.3333333333333333,
             "#9c179e"
            ],
            [
             0.4444444444444444,
             "#bd3786"
            ],
            [
             0.5555555555555556,
             "#d8576b"
            ],
            [
             0.6666666666666666,
             "#ed7953"
            ],
            [
             0.7777777777777778,
             "#fb9f3a"
            ],
            [
             0.8888888888888888,
             "#fdca26"
            ],
            [
             1,
             "#f0f921"
            ]
           ],
           "sequentialminus": [
            [
             0,
             "#0d0887"
            ],
            [
             0.1111111111111111,
             "#46039f"
            ],
            [
             0.2222222222222222,
             "#7201a8"
            ],
            [
             0.3333333333333333,
             "#9c179e"
            ],
            [
             0.4444444444444444,
             "#bd3786"
            ],
            [
             0.5555555555555556,
             "#d8576b"
            ],
            [
             0.6666666666666666,
             "#ed7953"
            ],
            [
             0.7777777777777778,
             "#fb9f3a"
            ],
            [
             0.8888888888888888,
             "#fdca26"
            ],
            [
             1,
             "#f0f921"
            ]
           ]
          },
          "colorway": [
           "#636efa",
           "#EF553B",
           "#00cc96",
           "#ab63fa",
           "#FFA15A",
           "#19d3f3",
           "#FF6692",
           "#B6E880",
           "#FF97FF",
           "#FECB52"
          ],
          "font": {
           "color": "#2a3f5f"
          },
          "geo": {
           "bgcolor": "white",
           "lakecolor": "white",
           "landcolor": "#E5ECF6",
           "showlakes": true,
           "showland": true,
           "subunitcolor": "white"
          },
          "hoverlabel": {
           "align": "left"
          },
          "hovermode": "closest",
          "mapbox": {
           "style": "light"
          },
          "paper_bgcolor": "white",
          "plot_bgcolor": "#E5ECF6",
          "polar": {
           "angularaxis": {
            "gridcolor": "white",
            "linecolor": "white",
            "ticks": ""
           },
           "bgcolor": "#E5ECF6",
           "radialaxis": {
            "gridcolor": "white",
            "linecolor": "white",
            "ticks": ""
           }
          },
          "scene": {
           "xaxis": {
            "backgroundcolor": "#E5ECF6",
            "gridcolor": "white",
            "gridwidth": 2,
            "linecolor": "white",
            "showbackground": true,
            "ticks": "",
            "zerolinecolor": "white"
           },
           "yaxis": {
            "backgroundcolor": "#E5ECF6",
            "gridcolor": "white",
            "gridwidth": 2,
            "linecolor": "white",
            "showbackground": true,
            "ticks": "",
            "zerolinecolor": "white"
           },
           "zaxis": {
            "backgroundcolor": "#E5ECF6",
            "gridcolor": "white",
            "gridwidth": 2,
            "linecolor": "white",
            "showbackground": true,
            "ticks": "",
            "zerolinecolor": "white"
           }
          },
          "shapedefaults": {
           "line": {
            "color": "#2a3f5f"
           }
          },
          "ternary": {
           "aaxis": {
            "gridcolor": "white",
            "linecolor": "white",
            "ticks": ""
           },
           "baxis": {
            "gridcolor": "white",
            "linecolor": "white",
            "ticks": ""
           },
           "bgcolor": "#E5ECF6",
           "caxis": {
            "gridcolor": "white",
            "linecolor": "white",
            "ticks": ""
           }
          },
          "title": {
           "x": 0.05
          },
          "xaxis": {
           "automargin": true,
           "gridcolor": "white",
           "linecolor": "white",
           "ticks": "",
           "title": {
            "standoff": 15
           },
           "zerolinecolor": "white",
           "zerolinewidth": 2
          },
          "yaxis": {
           "automargin": true,
           "gridcolor": "white",
           "linecolor": "white",
           "ticks": "",
           "title": {
            "standoff": 15
           },
           "zerolinecolor": "white",
           "zerolinewidth": 2
          }
         }
        },
        "title": {
         "text": "Predicted Scores"
        },
        "xaxis": {
         "anchor": "y",
         "domain": [
          0,
          1
         ],
         "title": {
          "text": "Team"
         }
        },
        "yaxis": {
         "anchor": "x",
         "domain": [
          0,
          1
         ],
         "title": {
          "text": "Predicted Score"
         }
        }
       }
      }
     },
     "metadata": {},
     "output_type": "display_data"
    }
   ],
   "source": [
    "with torch.no_grad():\n",
    "    home_scores_pred, away_scores_pred = model(\n",
    "        X_new_tensor, X_new_tensor[:, -2], X_new_tensor[:, -1]\n",
    "    )\n",
    "\n",
    "    home_scores_pred = home_scores_pred.squeeze().numpy()\n",
    "    away_scores_pred = away_scores_pred.squeeze().numpy()\n",
    "\n",
    "    home_teams = label_encoder.inverse_transform(new_data[\"home_team\"])\n",
    "    away_teams = label_encoder.inverse_transform(new_data[\"away_team\"])\n",
    "\n",
    "    df_home = pd.DataFrame(\n",
    "        {\n",
    "            \"Team\": home_teams,\n",
    "            \"Opponent\": away_teams,\n",
    "            \"Predicted Score\": home_scores_pred,\n",
    "        }\n",
    "    )\n",
    "\n",
    "    df_away = pd.DataFrame(\n",
    "        {\n",
    "            \"Team\": away_teams,\n",
    "            \"Opponent\": home_teams,\n",
    "            \"Predicted Score\": away_scores_pred,\n",
    "        }\n",
    "    )\n",
    "\n",
    "    df_all = pd.concat([df_home, df_away])\n",
    "\n",
    "    fig = px.scatter(\n",
    "        df_all,\n",
    "        x=\"Team\",\n",
    "        y=\"Predicted Score\",\n",
    "        color=\"Team\",\n",
    "        title=\"Predicted Scores\",\n",
    "        hover_data=[\"Team\", \"Opponent\"],\n",
    "    )\n",
    "\n",
    "    fig.update_traces(marker=dict(size=8, opacity=0.7), selector=dict(mode=\"markers\"))\n",
    "    fig.show()\n",
    "    \n",
    "    # fig2 = px.scatter(\n",
    "    #     df_all,\n",
    "    #     x=\"Team\",\n",
    "    #     y=\"Opponent\",\n",
    "    #     color=\"Team\",\n",
    "    #     title=\"Predicted Scores, Team against Team\",\n",
    "    #     hover_data=[\"Team\", \"Opponent\", \"Predicted Score\"],\n",
    "    # )\n",
    "\n",
    "    # fig2.update_traces(marker=dict(size=8, opacity=0.7), selector=dict(mode=\"markers\"))\n",
    "    # fig2.show()"
   ]
  }
 ],
 "metadata": {
  "kernelspec": {
   "display_name": "Python 3",
   "language": "python",
   "name": "python3"
  },
  "language_info": {
   "codemirror_mode": {
    "name": "ipython",
    "version": 3
   },
   "file_extension": ".py",
   "mimetype": "text/x-python",
   "name": "python",
   "nbconvert_exporter": "python",
   "pygments_lexer": "ipython3",
   "version": "3.11.3"
  }
 },
 "nbformat": 4,
 "nbformat_minor": 2
}
